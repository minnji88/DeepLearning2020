{
  "nbformat": 4,
  "nbformat_minor": 0,
  "metadata": {
    "colab": {
      "name": "3.6 주택 가격 예측: 회귀 문제.ipynb",
      "private_outputs": true,
      "provenance": [],
      "collapsed_sections": [],
      "authorship_tag": "ABX9TyOkY+y1taTb94C3s02K3ADf",
      "include_colab_link": true
    },
    "kernelspec": {
      "name": "python3",
      "display_name": "Python 3"
    }
  },
  "cells": [
    {
      "cell_type": "markdown",
      "metadata": {
        "id": "view-in-github",
        "colab_type": "text"
      },
      "source": [
        "<a href=\"https://colab.research.google.com/github/minnji88/DeepLearning2020/blob/master/3_6_%EC%A3%BC%ED%83%9D%EA%B0%80%EA%B2%A9%EC%98%88%EC%B8%A1_%ED%9A%8C%EA%B7%80%EB%AC%B8%EC%A0%9C.ipynb\" target=\"_parent\"><img src=\"https://colab.research.google.com/assets/colab-badge.svg\" alt=\"Open In Colab\"/></a>"
      ]
    },
    {
      "cell_type": "markdown",
      "metadata": {
        "id": "48z_hypKkOD9"
      },
      "source": [
        "## 보스턴 주택 가격 데이터셋\n",
        "\n",
        "회귀(regression) = 개별적인 레이블이 아닌 연속적인 값을 예측\n",
        "\n",
        "404개의 훈련 샘플, 102개의 테스트 샘플\n",
        "\n",
        "\n",
        "입력 데이터의 특성의 스케일이 서로 다름. ([0,1],[1,12],[1,100] 등)\n",
        "\n",
        "\n",
        "13개의 특성을 가짐"
      ]
    },
    {
      "cell_type": "code",
      "metadata": {
        "id": "lFQaTQZxj_Dm"
      },
      "source": [
        "# 코드 3-24 보스턴 주택 데이터셋 로드하기\n",
        "from keras.datasets import boston_housing\n",
        "\n",
        "(train_data, train_targets), (test_data, test_targets) =  boston_housing.load_data()\n",
        "print(train_data)"
      ],
      "execution_count": null,
      "outputs": []
    },
    {
      "cell_type": "markdown",
      "metadata": {
        "id": "SkIskUGCl5kl"
      },
      "source": [
        "##  데이터 준비\n",
        "\n",
        "특성별로 정규화(표준화)가 필요\n",
        "\n",
        "각 특성을 특성의 평균을 빼고 표준 편차로 나눕니다. 그렇다면 특성의 평균은 0, 표준 편차는 1인 데이터셋으로 만들어집니다. \n",
        "본 정규화는 *훈련 데이터 값* 만 이용해야 함을 주의해야합니다.\n"
      ]
    },
    {
      "cell_type": "code",
      "metadata": {
        "id": "wm-1ehIHlyZ6"
      },
      "source": [
        "# 코드 3-25 데이터 정규화하기\n",
        "mean = train_data.mean(axis=0)\n",
        "train_data -= mean\n",
        "std = train_data.std(axis=0)\n",
        "train_data /= std\n",
        "\n",
        "test_data -= mean\n",
        "test_data /= std\n",
        "\n",
        "print(len(train_data))"
      ],
      "execution_count": null,
      "outputs": []
    },
    {
      "cell_type": "markdown",
      "metadata": {
        "id": "4Jj76h6am8Vs"
      },
      "source": [
        "## 모델 구성\n",
        "\n",
        "샘플 개수가 적어 64개의 유닛을 가진 2개의 은닉 층으로 네트워크르 구성합니다.\n",
        "\n",
        "\n",
        "출력에 dense에 활성화 함수가 없음\n",
        "\n",
        "평균 제곱 오차(mse) 손실 함수를 이용함 | \n",
        "평균 절대 오차(MAE) 로 모니터링함 (예측과 타깃의 절대적 거리)"
      ]
    },
    {
      "cell_type": "code",
      "metadata": {
        "id": "yK9H9zOJmXIH"
      },
      "source": [
        "from keras import models\n",
        "from keras import layers\n",
        "\n",
        "def build_model():\n",
        "    model = models.Sequential()\n",
        "    model.add(layers.Dense(64, activation='relu',\n",
        "                           input_shape=(train_data.shape[1],)))\n",
        "    model.add(layers.Dense(64, activation='relu'))\n",
        "    model.add(layers.Dense(1))\n",
        "    model.compile(optimizer='rmsprop', loss='mse', metrics=['mae'])\n",
        "    return model"
      ],
      "execution_count": null,
      "outputs": []
    },
    {
      "cell_type": "markdown",
      "metadata": {
        "id": "a_ArkzUuoM4H"
      },
      "source": [
        "##  K-겹 검증을 사용한 훈련 검증\n",
        "\n",
        "데이터를 K개의 fold로 나누고, K개의 모델을 만듬\n",
        "\n",
        "각각의 모델에서 K-1개의 분할에서 훈련하고, 나머지 분할에서 평가\n",
        "\n",
        "모델의 검증 점수는 K개의 검증 점수 평균"
      ]
    },
    {
      "cell_type": "code",
      "metadata": {
        "id": "x7DA1YZ8oNjX"
      },
      "source": [
        "# 코드 3-27 K-겹 검증하기\n",
        "import numpy as np\n",
        "\n",
        "k = 4\n",
        "num_val_samples = len(train_data) # 101\n",
        "num_epochs = 100\n",
        "all_scores = []\n",
        "for i in range(k):\n",
        "    print('처리중인 폴드 #', i)\n",
        "    # 검증 데이터 준비: k번째 분할\n",
        "    val_data = train_data[i * num_val_samples: (i + 1) * num_val_samples]\n",
        "    val_targets = train_targets[i * num_val_samples: (i + 1) * num_val_samples]\n",
        "\n",
        "    # 훈련 데이터 준비: 다른 분할 전체\n",
        "    partial_train_data = np.concatenate(\n",
        "        [train_data[:i * num_val_samples],\n",
        "         train_data[(i + 1) * num_val_samples:]],\n",
        "        axis=0)\n",
        "    partial_train_targets = np.concatenate(\n",
        "        [train_targets[:i * num_val_samples],\n",
        "         train_targets[(i + 1) * num_val_samples:]],\n",
        "        axis=0)\n",
        "\n",
        "    # 케라스 모델 구성(컴파일 포함)\n",
        "    model = build_model()\n",
        "    # 모델 훈련(verbose=0 이므로 훈련 과정이 출력되지 않습니다)\n",
        "    model.fit(partial_train_data, partial_train_targets,\n",
        "              epochs=num_epochs, batch_size=1, verbose=0)\n",
        "    # 검증 세트로 모델 평가\n",
        "    val_mse, val_mae = model.evaluate(val_data, val_targets, verbose=0)\n",
        "    all_scores.append(val_mae)\n",
        "\n",
        "print(all_scores)\n",
        "print(np.mean(all_scores))"
      ],
      "execution_count": null,
      "outputs": []
    },
    {
      "cell_type": "code",
      "metadata": {
        "id": "2bdYp1ydvMgl"
      },
      "source": [
        "print(num_val_samples)"
      ],
      "execution_count": null,
      "outputs": []
    },
    {
      "cell_type": "code",
      "metadata": {
        "id": "JIFbFJ2qoTe2"
      },
      "source": [
        "# 코드 3-28 각 폴드에서 검증 점수를 로그에 저장하기\n",
        "num_epochs = 500\n",
        "all_mae_histories = []\n",
        "for i in range(k):\n",
        "    print('처리중인 폴드 #', i)\n",
        "    val_data = train_data[i * num_val_samples: (i + 1) * num_val_samples]  #검증 데이터 준비: k번째 분할    val_targets = train_targets[i * num_val_samples: (i + 1) * num_val_samples]\n",
        "    partial_train_data = np.concatenate(  # 훈련 데이터 준비: 다른 분할 전체\n",
        "        [train_data[:i * num_val_samples],\n",
        "         train_data[(i + 1) * num_val_samples:]],\n",
        "        axis=0)\n",
        "    partial_train_targets = np.concatenate(\n",
        "        [train_targets[:i * num_val_samples],\n",
        "         train_targets[(i + 1) * num_val_samples:]],\n",
        "        axis=0)\n",
        "\n",
        "    model = build_model()  # 케라스 모델 구성(컴파일 포함)\n",
        "    history = model.fit(partial_train_data, partial_train_targets,  # 모델 훈련(verbose=0이므로 훈련 과정이 출력되지 않습니다.)\n",
        "                    validation_data=(val_data, val_targets),\n",
        "                    epochs=num_epochs, batch_size=1, verbose=0)\n",
        "    mae_history = history.history['val_mae']\n",
        "    all_mae_histories.append(mae_history)"
      ],
      "execution_count": null,
      "outputs": []
    },
    {
      "cell_type": "code",
      "metadata": {
        "id": "-3v-Kowoo9JF"
      },
      "source": [
        "# 코드 3-29 k-겹 검증 점수 평균을 기록하기\n",
        "average_mae_history = [\n",
        "    np.mean([x[i] for x in all_mae_histories]) for i in range(num_epochs)]"
      ],
      "execution_count": null,
      "outputs": []
    },
    {
      "cell_type": "code",
      "metadata": {
        "id": "yG-E4dDlo_Z-"
      },
      "source": [
        "# 코드 3-30 검증 점수 그래프\n",
        "import matplotlib.pyplot as plt\n",
        "\n",
        "plt.plot(range(1, len(average_mae_history) + 1), average_mae_history)\n",
        "plt.xlabel('Epochs')\n",
        "plt.ylabel('Validation MAE')\n",
        "\n",
        "fig5 = plt.gcf()\n",
        "\n",
        "plt.draw()\n",
        "fig5.savefig('fig5.png', dpi=100)"
      ],
      "execution_count": null,
      "outputs": []
    },
    {
      "cell_type": "code",
      "metadata": {
        "id": "PG2xT6kQpF3m"
      },
      "source": [
        "# 코드 3-31 처음 10개의 데이터 포인트를 제외한 검증 점수 그리기\n",
        "def smooth_curve(points, factor=0.9):\n",
        "  smoothed_points = []\n",
        "  for point in points:\n",
        "    if smoothed_points:\n",
        "      previous = smoothed_points[-1]\n",
        "      smoothed_points.append(previous * factor + point * (1 - factor))\n",
        "    else:\n",
        "      smoothed_points.append(point)\n",
        "  return smoothed_points\n",
        "\n",
        "smooth_mae_history = smooth_curve(average_mae_history[10:])\n",
        "\n",
        "plt.plot(range(1, len(smooth_mae_history) + 1), smooth_mae_history)\n",
        "plt.xlabel('Epochs')\n",
        "plt.ylabel('Validation MAE')\n",
        "plt.show()"
      ],
      "execution_count": null,
      "outputs": []
    },
    {
      "cell_type": "code",
      "metadata": {
        "id": "JMNJgr_0pFvL"
      },
      "source": [
        "# 코드 3-32 최종 모델 훈련하기\n",
        "model = build_model()\n",
        "model.fit(train_data, train_targets,\n",
        "          epochs=80, batch_size=16, verbose=0)\n",
        "test_mse_score, test_mae_score = model.evaluate(test_data, test_targets)\n",
        "\n",
        "print(test_mae_score)"
      ],
      "execution_count": null,
      "outputs": []
    },
    {
      "cell_type": "markdown",
      "metadata": {
        "id": "tWWi-tUOrk44"
      },
      "source": [
        "회귀에서는 평균 제곱 오차를 손실 함수를 자주 사용\n",
        "\n",
        "평가 지표는 평균 절대 오차를 일반적으로 사용\n",
        "\n",
        "특성 스케일이 다른 경우, 스케일을 전처리 단계에서 조정\n",
        "\n",
        "가용 데이터가 적은 경우 K-겹 검증 사용\n",
        "\n",
        "훈련 데이터가 적다면 오버피팅을 피하기 위하여 은닉 층을 줄임"
      ]
    }
  ]
}