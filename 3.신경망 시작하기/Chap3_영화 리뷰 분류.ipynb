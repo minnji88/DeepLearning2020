{
  "nbformat": 4,
  "nbformat_minor": 0,
  "metadata": {
    "colab": {
      "name": "Chap3. 신경망 시작하기",
      "provenance": [],
      "private_outputs": true,
      "collapsed_sections": [],
      "toc_visible": true,
      "authorship_tag": "ABX9TyPm6rmI3n8S5negX9n8HUIw",
      "include_colab_link": true
    },
    "kernelspec": {
      "name": "python3",
      "display_name": "Python 3"
    }
  },
  "cells": [
    {
      "cell_type": "markdown",
      "metadata": {
        "id": "view-in-github",
        "colab_type": "text"
      },
      "source": [
        "<a href=\"https://colab.research.google.com/github/minnji88/DeepLearning2020/blob/master/Chap3_%EC%98%81%ED%99%94%20%EB%A6%AC%EB%B7%B0%20%EB%B6%84%EB%A5%98.ipynb\" target=\"_parent\"><img src=\"https://colab.research.google.com/assets/colab-badge.svg\" alt=\"Open In Colab\"/></a>"
      ]
    },
    {
      "cell_type": "markdown",
      "metadata": {
        "id": "ukJWF5n70MES"
      },
      "source": [
        "# 3장 신경망 시작하기\n",
        "-------------------------------------------\n",
        "\n",
        "\n",
        "### 신경망이 가장많이 사용되는 세 종류(이진 분류, 다중 분류, 스칼라 값을 예측하는 회귀)에 배운 것을 적용\n",
        "\n",
        "### 세 가지 기본예제\n",
        "1. 영화 리뷰를 긍정 또는 부정으로 분류하기 (이진 분류)\n",
        "2. 신문기사를 토픽으로 분류하기 (다중 분류)\n",
        "3. 부동산 데이터를 바탕으로 주택 가격을 예측하기(회귀)\n",
        "\n",
        "## 3.1 신경망의 **구조**\n",
        "- **네트워크**를 구성하는 층\n",
        "- **입력 데이터**와 그에 상응하는 **타깃**\n",
        "- 학습에 사용할 피드백 신호를 정의하는 **손실 함수**\n",
        "- 학습 진행 방식을 결정하는 **옵티마이저**\n",
        "\n",
        "\n",
        "\n",
        "![image](https://tensorflowkorea.files.wordpress.com/2018/12/093.jpg)\n"
      ]
    },
    {
      "cell_type": "code",
      "metadata": {
        "id": "5p_oOPn60R5O"
      },
      "source": [
        "from keras import layers\n",
        "\n",
        "layer = layers.Dense(32, input_shape=(784,))  # 32개의 유닛으로 된 밀집 층\n",
        "# 첫 번째 차원이 784인 2D 텐서를 입력으로 받는 층 -> 첫 번째 차원크기를 32로 변환된 텐서 출력 "
      ],
      "execution_count": null,
      "outputs": []
    },
    {
      "cell_type": "code",
      "metadata": {
        "id": "bfk04ixh5wNm"
      },
      "source": [
        "from keras import models\n",
        "from keras import layers\n",
        "\n",
        "model = models.Sequential()\n",
        "model.add(layers.Dense(32, input_shape=(784,)))\n",
        "model.add(layers.Dense(10))"
      ],
      "execution_count": null,
      "outputs": []
    },
    {
      "cell_type": "markdown",
      "metadata": {
        "id": "TyOEbYM3Ak2y"
      },
      "source": [
        "## 3.2 케라스 소개\n",
        "\n",
        "### 케라스 작업 흐름\n",
        "1. 입력 텐서와 타깃 텐서로 이루어진 훈련 데이터를 정의합니다.\n",
        "2. 입력과 타깃을 매핑하는 층으로 이루어진 네트워크(또는 모델)를 정의합니다.\n",
        "3. 손실 함수, 옵티마이저, 모니터링하기 위한 측정 지표를 선택하여 학습 과정을 설정합니다.\n",
        "4. 훈련 데이터에 대해 모델의 fit() 메서드를 반복적으로 호출합니다."
      ]
    },
    {
      "cell_type": "code",
      "metadata": {
        "id": "yXcG3VOD7iLd"
      },
      "source": [
        "# Sequential 모델\n",
        "from keras import models\n",
        "from keras import layers\n",
        "\n",
        "model = models.Sequential()\n",
        "model.add(layers.Dense(32, activation='relu', input_shape=(784,)))\n",
        "model.add(layers.Dense(10, activation='softmax'))"
      ],
      "execution_count": null,
      "outputs": []
    },
    {
      "cell_type": "code",
      "metadata": {
        "id": "1IWzezdlA4gV"
      },
      "source": [
        "# 함수형 API\n",
        "input_tensor = layers.Input(shape=(784,))\n",
        "x = layers.Dense(32, activation='relu')(input_tensor)\n",
        "output_tensor = layers.Dense(10, activation='softmax')(x)\n",
        "\n",
        "model = models.Model(inputs=input_tensor, outputs=output_tensor)"
      ],
      "execution_count": null,
      "outputs": []
    },
    {
      "cell_type": "markdown",
      "metadata": {
        "id": "JvpENoh2BBhR"
      },
      "source": [
        ""
      ]
    },
    {
      "cell_type": "code",
      "metadata": {
        "id": "n0y-Gp7TBBBq"
      },
      "source": [
        "# 컴파일 단계\n",
        "from keras import optimizers\n",
        "\n",
        "model.compile(optimizer=optimizers.RMSprop(lr=0.001),\n",
        "              loss='mse',\n",
        "              metrics=['accuracy'])"
      ],
      "execution_count": null,
      "outputs": []
    },
    {
      "cell_type": "code",
      "metadata": {
        "id": "-9DmkZIYCHvk"
      },
      "source": [
        "#model.fit(input_tensor, target_tensor, batch_size=128, epochs=10)"
      ],
      "execution_count": null,
      "outputs": []
    },
    {
      "cell_type": "markdown",
      "metadata": {
        "id": "GkjgcaryCIuk"
      },
      "source": [
        "## 3.4 영화 리뷰 분류: 이진 분류 예제\n",
        "\n",
        "-- 리뷰텍스트를 기반으로 영화리뷰를 긍정과 부정으로 분류하는 방법\n",
        "\n",
        "### 3.4.1 IMDB 데이터 셋"
      ]
    },
    {
      "cell_type": "code",
      "metadata": {
        "id": "-0RInzGCCJrT"
      },
      "source": [
        "from keras.datasets import imdb\n",
        "\n",
        "(train_data, train_labels),(test_data, test_labels) = imdb.load_data(num_words = 10000)"
      ],
      "execution_count": null,
      "outputs": []
    },
    {
      "cell_type": "code",
      "metadata": {
        "id": "X1M4mrPkDjPW"
      },
      "source": [
        "print(train_data[0])"
      ],
      "execution_count": null,
      "outputs": []
    },
    {
      "cell_type": "code",
      "metadata": {
        "id": "mTJ-pFJeNPjE"
      },
      "source": [
        "max([max(sequence) for sequence in train_data])"
      ],
      "execution_count": null,
      "outputs": []
    },
    {
      "cell_type": "code",
      "metadata": {
        "id": "YtQCduNjNTY-"
      },
      "source": [
        "word_index = imdb.get_word_index() # word_index는 단어와 정수 인덱스를 매핑한 딕셔너리입니다.\n",
        "reverse_word_index = dict(\n",
        "    # 정수 인덱스와 단어를 매핑하도록 뒤집습니다.\n",
        "    [(value, key) for (key, value) in word_index.items()])\n",
        "decoded_review = ' '.join(\n",
        "    # 리뷰를 디코딩합니다. 0, 1, 2는 ‘패딩’, ‘문서 시작’, ‘사전에 없음’을 위한 인덱스이므로 3을 뺍니다.\n",
        "    [reverse_word_index.get(i - 3, '?') for i in train_data[0]])\n",
        "\n",
        "print(decoded_review)"
      ],
      "execution_count": null,
      "outputs": []
    },
    {
      "cell_type": "markdown",
      "metadata": {
        "id": "JJPbU0PDE0SY"
      },
      "source": [
        "### 3.4.2 데이터 준비"
      ]
    },
    {
      "cell_type": "code",
      "metadata": {
        "id": "z3tN9FndE3Cq"
      },
      "source": [
        "# 정수 시퀀스를 이진 행렬로 인코딩하기\n",
        "import numpy as np\n",
        "\n",
        "def vectorize_sequences(sequences, dimension=10000):\n",
        "    # 크기가 (len(sequences), dimension)이고 모든 원소가 0인 행렬을 만듭니다.\n",
        "    results = np.zeros((len(sequences), dimension))\n",
        "    for i, sequence in enumerate(sequences):\n",
        "        results[i, sequence] = 1. # results[i]에서 특정 인덱스의 위치를 1로 만듭니다.\n",
        "    return results\n",
        "\n",
        "x_train = vectorize_sequences(train_data) # 훈련 데이터를 벡터로 변환합니다.\n",
        "x_test = vectorize_sequences(test_data) # 테스트 데이터를 벡터로 변환합니다.\n"
      ],
      "execution_count": null,
      "outputs": []
    },
    {
      "cell_type": "code",
      "metadata": {
        "id": "cEE6WDldOfNW"
      },
      "source": [
        "x_train[0]"
      ],
      "execution_count": null,
      "outputs": []
    },
    {
      "cell_type": "code",
      "metadata": {
        "id": "OD4qKp1DOkld"
      },
      "source": [
        "y_train = np.asarray(train_labels).astype('float32')\n",
        "y_test = np.asarray(test_labels).astype('float32')"
      ],
      "execution_count": null,
      "outputs": []
    },
    {
      "cell_type": "markdown",
      "metadata": {
        "id": "s8VHv_ZpQs98"
      },
      "source": [
        "### 3.4.3 신경망 모델 만들기\n",
        "\n",
        "- 16개의 은닉 유닛을 가진 2개의 은닉 층\n",
        "\n",
        "- 현재 리뷰의 감정을 스칼라 값의 예측으로 출력하는 세 번째 층\n",
        "\n",
        "#### relu 함수 = 음수를 0으로 만드는 함수\n",
        "![image](https://tensorflowkorea.files.wordpress.com/2018/12/108.jpg)\n",
        "\n",
        "#### 시그모이드 함수 = [0,1] 사이로 임의의 값을 확률처럼 출력\n",
        "\n",
        "![image](https://tensorflowkorea.files.wordpress.com/2018/12/109_1.jpg)\n",
        "\n",
        "#### 3개의 층으로 된 신경망\n",
        "![image](https://tensorflowkorea.files.wordpress.com/2018/12/109_2.jpg?w=392&h=600)"
      ]
    },
    {
      "cell_type": "code",
      "metadata": {
        "id": "W1iRSdiGPLfY"
      },
      "source": [
        "from keras import models\n",
        "from keras import layers\n",
        "\n",
        "model = models.Sequential()\n",
        "model.add(layers.Dense(16, activation='relu', input_shape=(10000,)))\n",
        "model.add(layers.Dense(16, activation='relu'))\n",
        "model.add(layers.Dense(1, activation='sigmoid'))"
      ],
      "execution_count": null,
      "outputs": []
    },
    {
      "cell_type": "markdown",
      "metadata": {
        "id": "z1JZF2iRhicP"
      },
      "source": [
        "### 모델 컴파일하기\n",
        "\n",
        "-- 손실함수와 옵티마이저 선택\n",
        "\n",
        "##### *(확률을 출력하는 모델) = 크로스엔트로피*\n",
        "##### *원본과 예측 분포사이의 확률 분포간 차이 측정*"
      ]
    },
    {
      "cell_type": "code",
      "metadata": {
        "id": "oI_vd6YEhh84"
      },
      "source": [
        "model.compile(optimizer='rmsprop',\n",
        "              loss='binary_crossentropy',\n",
        "              metrics=['accuracy'])"
      ],
      "execution_count": null,
      "outputs": []
    },
    {
      "cell_type": "code",
      "metadata": {
        "id": "9xW4SOV5R20F"
      },
      "source": [
        "# 옵티마이저 설정하기\n",
        "from keras import optimizers\n",
        "model.compile(optimizer=optimizers.RMSprop(lr=0.001),\n",
        "              loss='binary_crossentropy',\n",
        "              metrics=['accuracy'])"
      ],
      "execution_count": null,
      "outputs": []
    },
    {
      "cell_type": "code",
      "metadata": {
        "id": "-Yb0e873i1oP"
      },
      "source": [
        "# 손실과 측정을 함수 객체로 지정하기\n",
        "from keras import losses\n",
        "from keras import metrics\n",
        "\n",
        "model.compile(optimizer=optimizers.RMSprop(lr=0.001),\n",
        "              loss=losses.binary_crossentropy,\n",
        "              metrics=[metrics.binary_accuracy])"
      ],
      "execution_count": null,
      "outputs": []
    },
    {
      "cell_type": "markdown",
      "metadata": {
        "id": "5UcTT-hzR1v6"
      },
      "source": [
        "## 3.4.4 훈련 검증\n"
      ]
    },
    {
      "cell_type": "code",
      "metadata": {
        "id": "8Sc3CjcLjDgt"
      },
      "source": [
        "# 검증 세트 준비하기\n",
        "x_val = x_train[:10000]\n",
        "partial_x_train = x_train[10000:]\n",
        "y_val = y_train[:10000]\n",
        "partial_y_train = y_train[10000:]"
      ],
      "execution_count": null,
      "outputs": []
    },
    {
      "cell_type": "markdown",
      "metadata": {
        "id": "viE851uUkLqu"
      },
      "source": [
        "### 모델 훈련하기"
      ]
    },
    {
      "cell_type": "code",
      "metadata": {
        "id": "Zgr12EumjDug"
      },
      "source": [
        "model.compile(optimizer='rmsprop',\n",
        "              loss='binary_crossentropy',\n",
        "              metrics=['accuracy'])\n",
        "\n",
        "history = model.fit(partial_x_train, \n",
        "                    partial_y_train,\n",
        "                    epochs=20,\n",
        "                    batch_size= 512,\n",
        "                    validation_data=(x_val, y_val))"
      ],
      "execution_count": null,
      "outputs": []
    },
    {
      "cell_type": "code",
      "metadata": {
        "id": "IYfy1q40jDUo"
      },
      "source": [
        "# 훈련과 검증 손실 그리기\n",
        "import matplotlib.pyplot as plt\n",
        "\n",
        "history_dict = history.history\n",
        "loss = history_dict['loss']\n",
        "val_loss = history_dict['val_loss']\n",
        "\n",
        "epochs = range(1, len(loss)+1)\n",
        "\n",
        "plt.plot(epochs, loss, 'bo', label='Training loss')         #'bo'는 파란색 점을 의미함\n",
        "plt.plot(epochs, val_loss, 'b', label = 'Validation loss')  #'b' 파란색 실선을 의미함\n",
        "plt.title('Training and validation loss')\n",
        "plt.xlabel('Epochs')\n",
        "plt.ylabel('loss')\n",
        "plt.legend()\n",
        "\n",
        "plt.show()"
      ],
      "execution_count": null,
      "outputs": []
    },
    {
      "cell_type": "code",
      "metadata": {
        "id": "W2V2nGhzmOvh"
      },
      "source": [
        "plt.clf() # 그래프를 초기화합니다.\n",
        "acc = history_dict['accuracy']\n",
        "val_acc = history_dict['val_accuracy']\n",
        "\n",
        "plt.plot(epochs, acc, 'bo', label='Training acc')\n",
        "plt.plot(epochs, val_acc, 'b', label='Validation acc')\n",
        "plt.title('Training and validation accuracy')\n",
        "plt.xlabel('Epochs')\n",
        "plt.ylabel('Accuracy')\n",
        "plt.legend()\n",
        "\n",
        "plt.show()"
      ],
      "execution_count": null,
      "outputs": []
    },
    {
      "cell_type": "markdown",
      "metadata": {
        "id": "Kjdn9DffqJ8O"
      },
      "source": [
        "Overfitting(과대 적합): 훈련데이터에 과도하게 최적화되어 훈련세트 이외의 데이터에는 일반화되지 못한다"
      ]
    },
    {
      "cell_type": "code",
      "metadata": {
        "id": "KT6lJnz9oR3a"
      },
      "source": [
        "# 모델을 처음부터 다시 훈련하기\n",
        "model = models.Sequential()\n",
        "model.add(layers.Dense(16, activation= 'relu', input_shape=(10000,)))\n",
        "model.add(layers.Dense(16, activation= 'relu')) \n",
        "model.add(layers.Dense(1, activation= 'sigmoid'))\n",
        "\n",
        "model.compile(optimizer = 'rmsprop',\n",
        "              loss = 'binary_crossentropy',\n",
        "              metrics = ['accuracy'])\n",
        "\n",
        "model.fit(x_train, y_train, epochs = 4, batch_size = 512)\n",
        "results = model.evaluate(x_test, y_test)"
      ],
      "execution_count": null,
      "outputs": []
    },
    {
      "cell_type": "code",
      "metadata": {
        "id": "rHVhzRq5rTRC"
      },
      "source": [
        "print(results)    # 88% 정확도 달성"
      ],
      "execution_count": null,
      "outputs": []
    },
    {
      "cell_type": "markdown",
      "metadata": {
        "id": "VwwmfJBtsFwf"
      },
      "source": [
        "### 3.4.5 훈련된 모델로 새로운 데이터에 대해 예측하기"
      ]
    },
    {
      "cell_type": "code",
      "metadata": {
        "id": "IUoQnJ_3r-s_"
      },
      "source": [
        "model.predict(x_test)"
      ],
      "execution_count": null,
      "outputs": []
    },
    {
      "cell_type": "code",
      "metadata": {
        "id": "K7Ci2Q9HsNJ5"
      },
      "source": [
        ""
      ],
      "execution_count": null,
      "outputs": []
    }
  ]
}