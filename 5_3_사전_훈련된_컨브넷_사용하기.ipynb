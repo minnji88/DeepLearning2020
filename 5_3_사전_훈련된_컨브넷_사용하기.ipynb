{
  "nbformat": 4,
  "nbformat_minor": 0,
  "metadata": {
    "colab": {
      "name": "5_3 사전 훈련된 컨브넷 사용하기.ipynb",
      "provenance": [],
      "authorship_tag": "ABX9TyMOavQdVFH41Po+v7KBVGok",
      "include_colab_link": true
    },
    "kernelspec": {
      "name": "python3",
      "display_name": "Python 3"
    },
    "accelerator": "GPU"
  },
  "cells": [
    {
      "cell_type": "markdown",
      "metadata": {
        "id": "view-in-github",
        "colab_type": "text"
      },
      "source": [
        "<a href=\"https://colab.research.google.com/github/minnji88/DeepLearning2020/blob/master/5_3_%EC%82%AC%EC%A0%84_%ED%9B%88%EB%A0%A8%EB%90%9C_%EC%BB%A8%EB%B8%8C%EB%84%B7_%EC%82%AC%EC%9A%A9%ED%95%98%EA%B8%B0.ipynb\" target=\"_parent\"><img src=\"https://colab.research.google.com/assets/colab-badge.svg\" alt=\"Open In Colab\"/></a>"
      ]
    },
    {
      "cell_type": "markdown",
      "metadata": {
        "id": "4gWoAmr_jrgH"
      },
      "source": [
        "작은 이미지 데이터 셋에서 딥러닝을 적용하는 일반적이고 매우 효과적인 방법은 사전 훈련된 네트워크를 사용하는 것입니다. 사전 훈련된 네트워크(pretrained network) 는 일반적으로 대규모 이미지 분류 문제를 위해 대량의 데이터셋에서 미리 훈련되어 저장된 네트워크입니다.\n",
        "여러 모델이 있지만 여기서는 VGG16 모델을 사용합니다.\n",
        "사전 훈련된 네트워크는 2가지 방법으로 사용할 수 있습니다.\n",
        "\n",
        "- 특성 추출(feature extraction)\n",
        "- 미세 조정(fine tuning)"
      ]
    },
    {
      "cell_type": "markdown",
      "metadata": {
        "id": "aMjQKd3Xj6D9"
      },
      "source": [
        "## 5.3.1 특성 추출\n",
        "특성 추출 은 사전에 학습된 네트워크의 표현을 사용하여 새로운 샘플에서 흥미로운 특성을 뽑아 내는 것입니다. 이런 특성을 사용하여 새로운 분류기를 처음부터 훈련합니다.\n",
        "\n",
        "컨브넷은 이미지 분류를 위해 두 부분으로 구성됩니다.\n",
        "\n",
        "- 합성곱 기반 층 : 합성곱과 풀링 층으로 구성\n",
        "- 완전 연결 분류기\n",
        "\n",
        "컨브넷의 특성 맵은 사진에 대한 일반적인 콘셉트의 존재 여부를 기록한 맵입니다.\n",
        "\n",
        "분류기는 전체 사진에 어떤 클래스가 존재할 확률 정보 -> 훈련된 클래스 집합에 특화\n",
        "\n",
        "완전 연결 층에서 찾은 표현은 더 이상 입력 이미지에 있는 위치 정보를 가지고 있지 않음 "
      ]
    },
    {
      "cell_type": "markdown",
      "metadata": {
        "id": "1JNnSiPKkold"
      },
      "source": [
        "특정 합성곱 층에서 추출한 표현의 일반성 및 재사용성 수준은 모델에 있는 층의 깊이에 따라 달려있습니다.\n",
        "\n",
        "- 하위 층 : 에지, 색깔, 질감 등 지역적이고 매우 일반적인 특성 맵\n",
        "- 상위 층 : 강아지 눈, 고양이 귀와 같은 좀 더 추상적인 개념\n"
      ]
    },
    {
      "cell_type": "markdown",
      "metadata": {
        "id": "6DUq43ZDk9Xv"
      },
      "source": [
        "ImageNet 데이터셋에서 훈련된 **VCG16** 네트워크에서 유용한 특성을 추출합니다. 그 후 특성으로 훈련을 진행합니다.VGG16 모델은 케라스 패키지로 존재하며 keras.applications 모듈에서 import 할 수 있습니다. "
      ]
    },
    {
      "cell_type": "code",
      "metadata": {
        "colab": {
          "base_uri": "https://localhost:8080/"
        },
        "id": "6dak1qaklMcA",
        "outputId": "38dd382d-89ea-49bc-e9a1-78012e40387d"
      },
      "source": [
        "!pip uninstall keras\n",
        "!pip uninstall tensorflow\n",
        "\n",
        "!pip install keras==2.3.1\n",
        "!pip install tensorflow==2.2"
      ],
      "execution_count": 1,
      "outputs": [
        {
          "output_type": "stream",
          "text": [
            "Uninstalling Keras-2.4.3:\n",
            "  Would remove:\n",
            "    /usr/local/lib/python3.6/dist-packages/Keras-2.4.3.dist-info/*\n",
            "    /usr/local/lib/python3.6/dist-packages/docs/*\n",
            "    /usr/local/lib/python3.6/dist-packages/keras/*\n",
            "  Would not remove (might be manually added):\n",
            "    /usr/local/lib/python3.6/dist-packages/docs/md_autogen.py\n",
            "    /usr/local/lib/python3.6/dist-packages/docs/update_docs.py\n",
            "Proceed (y/n)? y\n",
            "  Successfully uninstalled Keras-2.4.3\n",
            "Uninstalling tensorflow-2.4.0:\n",
            "  Would remove:\n",
            "    /usr/local/bin/estimator_ckpt_converter\n",
            "    /usr/local/bin/import_pb_to_tensorboard\n",
            "    /usr/local/bin/saved_model_cli\n",
            "    /usr/local/bin/tensorboard\n",
            "    /usr/local/bin/tf_upgrade_v2\n",
            "    /usr/local/bin/tflite_convert\n",
            "    /usr/local/bin/toco\n",
            "    /usr/local/bin/toco_from_protos\n",
            "    /usr/local/lib/python3.6/dist-packages/tensorflow-2.4.0.dist-info/*\n",
            "    /usr/local/lib/python3.6/dist-packages/tensorflow/*\n",
            "Proceed (y/n)? y\n",
            "  Successfully uninstalled tensorflow-2.4.0\n",
            "Collecting keras==2.3.1\n",
            "\u001b[?25l  Downloading https://files.pythonhosted.org/packages/ad/fd/6bfe87920d7f4fd475acd28500a42482b6b84479832bdc0fe9e589a60ceb/Keras-2.3.1-py2.py3-none-any.whl (377kB)\n",
            "\u001b[K     |████████████████████████████████| 378kB 16.1MB/s \n",
            "\u001b[?25hRequirement already satisfied: h5py in /usr/local/lib/python3.6/dist-packages (from keras==2.3.1) (2.10.0)\n",
            "Requirement already satisfied: scipy>=0.14 in /usr/local/lib/python3.6/dist-packages (from keras==2.3.1) (1.4.1)\n",
            "Requirement already satisfied: six>=1.9.0 in /usr/local/lib/python3.6/dist-packages (from keras==2.3.1) (1.15.0)\n",
            "Collecting keras-applications>=1.0.6\n",
            "\u001b[?25l  Downloading https://files.pythonhosted.org/packages/71/e3/19762fdfc62877ae9102edf6342d71b28fbfd9dea3d2f96a882ce099b03f/Keras_Applications-1.0.8-py3-none-any.whl (50kB)\n",
            "\u001b[K     |████████████████████████████████| 51kB 6.7MB/s \n",
            "\u001b[?25hRequirement already satisfied: pyyaml in /usr/local/lib/python3.6/dist-packages (from keras==2.3.1) (3.13)\n",
            "Requirement already satisfied: keras-preprocessing>=1.0.5 in /usr/local/lib/python3.6/dist-packages (from keras==2.3.1) (1.1.2)\n",
            "Requirement already satisfied: numpy>=1.9.1 in /usr/local/lib/python3.6/dist-packages (from keras==2.3.1) (1.19.5)\n",
            "\u001b[31mERROR: fancyimpute 0.4.3 requires tensorflow, which is not installed.\u001b[0m\n",
            "Installing collected packages: keras-applications, keras\n",
            "Successfully installed keras-2.3.1 keras-applications-1.0.8\n",
            "Collecting tensorflow==2.2\n",
            "\u001b[?25l  Downloading https://files.pythonhosted.org/packages/3d/be/679ce5254a8c8d07470efb4a4c00345fae91f766e64f1c2aece8796d7218/tensorflow-2.2.0-cp36-cp36m-manylinux2010_x86_64.whl (516.2MB)\n",
            "\u001b[K     |████████████████████████████████| 516.2MB 34kB/s \n",
            "\u001b[?25hRequirement already satisfied: opt-einsum>=2.3.2 in /usr/local/lib/python3.6/dist-packages (from tensorflow==2.2) (3.3.0)\n",
            "Requirement already satisfied: protobuf>=3.8.0 in /usr/local/lib/python3.6/dist-packages (from tensorflow==2.2) (3.12.4)\n",
            "Requirement already satisfied: termcolor>=1.1.0 in /usr/local/lib/python3.6/dist-packages (from tensorflow==2.2) (1.1.0)\n",
            "Requirement already satisfied: wheel>=0.26; python_version >= \"3\" in /usr/local/lib/python3.6/dist-packages (from tensorflow==2.2) (0.36.2)\n",
            "Requirement already satisfied: scipy==1.4.1; python_version >= \"3\" in /usr/local/lib/python3.6/dist-packages (from tensorflow==2.2) (1.4.1)\n",
            "Requirement already satisfied: grpcio>=1.8.6 in /usr/local/lib/python3.6/dist-packages (from tensorflow==2.2) (1.32.0)\n",
            "Requirement already satisfied: keras-preprocessing>=1.1.0 in /usr/local/lib/python3.6/dist-packages (from tensorflow==2.2) (1.1.2)\n",
            "Collecting tensorflow-estimator<2.3.0,>=2.2.0\n",
            "\u001b[?25l  Downloading https://files.pythonhosted.org/packages/a4/f5/926ae53d6a226ec0fda5208e0e581cffed895ccc89e36ba76a8e60895b78/tensorflow_estimator-2.2.0-py2.py3-none-any.whl (454kB)\n",
            "\u001b[K     |████████████████████████████████| 460kB 53.8MB/s \n",
            "\u001b[?25hRequirement already satisfied: google-pasta>=0.1.8 in /usr/local/lib/python3.6/dist-packages (from tensorflow==2.2) (0.2.0)\n",
            "Requirement already satisfied: absl-py>=0.7.0 in /usr/local/lib/python3.6/dist-packages (from tensorflow==2.2) (0.10.0)\n",
            "Requirement already satisfied: gast==0.3.3 in /usr/local/lib/python3.6/dist-packages (from tensorflow==2.2) (0.3.3)\n",
            "Requirement already satisfied: numpy<2.0,>=1.16.0 in /usr/local/lib/python3.6/dist-packages (from tensorflow==2.2) (1.19.5)\n",
            "Collecting tensorboard<2.3.0,>=2.2.0\n",
            "\u001b[?25l  Downloading https://files.pythonhosted.org/packages/1d/74/0a6fcb206dcc72a6da9a62dd81784bfdbff5fedb099982861dc2219014fb/tensorboard-2.2.2-py3-none-any.whl (3.0MB)\n",
            "\u001b[K     |████████████████████████████████| 3.0MB 43.2MB/s \n",
            "\u001b[?25hRequirement already satisfied: wrapt>=1.11.1 in /usr/local/lib/python3.6/dist-packages (from tensorflow==2.2) (1.12.1)\n",
            "Requirement already satisfied: six>=1.12.0 in /usr/local/lib/python3.6/dist-packages (from tensorflow==2.2) (1.15.0)\n",
            "Requirement already satisfied: astunparse==1.6.3 in /usr/local/lib/python3.6/dist-packages (from tensorflow==2.2) (1.6.3)\n",
            "Requirement already satisfied: h5py<2.11.0,>=2.10.0 in /usr/local/lib/python3.6/dist-packages (from tensorflow==2.2) (2.10.0)\n",
            "Requirement already satisfied: setuptools in /usr/local/lib/python3.6/dist-packages (from protobuf>=3.8.0->tensorflow==2.2) (51.1.2)\n",
            "Requirement already satisfied: google-auth-oauthlib<0.5,>=0.4.1 in /usr/local/lib/python3.6/dist-packages (from tensorboard<2.3.0,>=2.2.0->tensorflow==2.2) (0.4.2)\n",
            "Requirement already satisfied: requests<3,>=2.21.0 in /usr/local/lib/python3.6/dist-packages (from tensorboard<2.3.0,>=2.2.0->tensorflow==2.2) (2.23.0)\n",
            "Requirement already satisfied: markdown>=2.6.8 in /usr/local/lib/python3.6/dist-packages (from tensorboard<2.3.0,>=2.2.0->tensorflow==2.2) (3.3.3)\n",
            "Requirement already satisfied: werkzeug>=0.11.15 in /usr/local/lib/python3.6/dist-packages (from tensorboard<2.3.0,>=2.2.0->tensorflow==2.2) (1.0.1)\n",
            "Requirement already satisfied: tensorboard-plugin-wit>=1.6.0 in /usr/local/lib/python3.6/dist-packages (from tensorboard<2.3.0,>=2.2.0->tensorflow==2.2) (1.7.0)\n",
            "Requirement already satisfied: google-auth<2,>=1.6.3 in /usr/local/lib/python3.6/dist-packages (from tensorboard<2.3.0,>=2.2.0->tensorflow==2.2) (1.17.2)\n",
            "Requirement already satisfied: requests-oauthlib>=0.7.0 in /usr/local/lib/python3.6/dist-packages (from google-auth-oauthlib<0.5,>=0.4.1->tensorboard<2.3.0,>=2.2.0->tensorflow==2.2) (1.3.0)\n",
            "Requirement already satisfied: idna<3,>=2.5 in /usr/local/lib/python3.6/dist-packages (from requests<3,>=2.21.0->tensorboard<2.3.0,>=2.2.0->tensorflow==2.2) (2.10)\n",
            "Requirement already satisfied: urllib3!=1.25.0,!=1.25.1,<1.26,>=1.21.1 in /usr/local/lib/python3.6/dist-packages (from requests<3,>=2.21.0->tensorboard<2.3.0,>=2.2.0->tensorflow==2.2) (1.24.3)\n",
            "Requirement already satisfied: certifi>=2017.4.17 in /usr/local/lib/python3.6/dist-packages (from requests<3,>=2.21.0->tensorboard<2.3.0,>=2.2.0->tensorflow==2.2) (2020.12.5)\n",
            "Requirement already satisfied: chardet<4,>=3.0.2 in /usr/local/lib/python3.6/dist-packages (from requests<3,>=2.21.0->tensorboard<2.3.0,>=2.2.0->tensorflow==2.2) (3.0.4)\n",
            "Requirement already satisfied: importlib-metadata; python_version < \"3.8\" in /usr/local/lib/python3.6/dist-packages (from markdown>=2.6.8->tensorboard<2.3.0,>=2.2.0->tensorflow==2.2) (3.3.0)\n",
            "Requirement already satisfied: pyasn1-modules>=0.2.1 in /usr/local/lib/python3.6/dist-packages (from google-auth<2,>=1.6.3->tensorboard<2.3.0,>=2.2.0->tensorflow==2.2) (0.2.8)\n",
            "Requirement already satisfied: cachetools<5.0,>=2.0.0 in /usr/local/lib/python3.6/dist-packages (from google-auth<2,>=1.6.3->tensorboard<2.3.0,>=2.2.0->tensorflow==2.2) (4.2.0)\n",
            "Requirement already satisfied: rsa<5,>=3.1.4; python_version >= \"3\" in /usr/local/lib/python3.6/dist-packages (from google-auth<2,>=1.6.3->tensorboard<2.3.0,>=2.2.0->tensorflow==2.2) (4.6)\n",
            "Requirement already satisfied: oauthlib>=3.0.0 in /usr/local/lib/python3.6/dist-packages (from requests-oauthlib>=0.7.0->google-auth-oauthlib<0.5,>=0.4.1->tensorboard<2.3.0,>=2.2.0->tensorflow==2.2) (3.1.0)\n",
            "Requirement already satisfied: typing-extensions>=3.6.4; python_version < \"3.8\" in /usr/local/lib/python3.6/dist-packages (from importlib-metadata; python_version < \"3.8\"->markdown>=2.6.8->tensorboard<2.3.0,>=2.2.0->tensorflow==2.2) (3.7.4.3)\n",
            "Requirement already satisfied: zipp>=0.5 in /usr/local/lib/python3.6/dist-packages (from importlib-metadata; python_version < \"3.8\"->markdown>=2.6.8->tensorboard<2.3.0,>=2.2.0->tensorflow==2.2) (3.4.0)\n",
            "Requirement already satisfied: pyasn1<0.5.0,>=0.4.6 in /usr/local/lib/python3.6/dist-packages (from pyasn1-modules>=0.2.1->google-auth<2,>=1.6.3->tensorboard<2.3.0,>=2.2.0->tensorflow==2.2) (0.4.8)\n",
            "Installing collected packages: tensorflow-estimator, tensorboard, tensorflow\n",
            "  Found existing installation: tensorflow-estimator 2.4.0\n",
            "    Uninstalling tensorflow-estimator-2.4.0:\n",
            "      Successfully uninstalled tensorflow-estimator-2.4.0\n",
            "  Found existing installation: tensorboard 2.4.0\n",
            "    Uninstalling tensorboard-2.4.0:\n",
            "      Successfully uninstalled tensorboard-2.4.0\n",
            "Successfully installed tensorboard-2.2.2 tensorflow-2.2.0 tensorflow-estimator-2.2.0\n"
          ],
          "name": "stdout"
        }
      ]
    },
    {
      "cell_type": "code",
      "metadata": {
        "colab": {
          "base_uri": "https://localhost:8080/"
        },
        "id": "t7MRnCCvlrtx",
        "outputId": "4b02eaca-7bd0-4fb3-dea5-25d5d77cdfe4"
      },
      "source": [
        "from google.colab import drive\n",
        "drive.mount('/content/drive')"
      ],
      "execution_count": 2,
      "outputs": [
        {
          "output_type": "stream",
          "text": [
            "Mounted at /content/drive\n"
          ],
          "name": "stdout"
        }
      ]
    },
    {
      "cell_type": "markdown",
      "metadata": {
        "id": "DnlyhViVlxcl"
      },
      "source": [
        "- weights는 모델을 초기화할 가중치 체크포인트를 지정합니다.\n",
        "- include_top은 네트워크의 최상위 완전 연결 분류기를 포함할지 안할지를 지정합니다. 기본값은 ImageNet의 1,000개의 클래스에 대응되는 완전 연결 분류기를 포함합니다. 별도의 (강아지와 고양이 두 개의 클래스를 구분하는) 완전 연결 층을 추가하려고 하므로 이를 포함시키지 않습니다.\n",
        "- input_shape은 네트워크에 주입할 이미지 텐서의 크기입니다."
      ]
    },
    {
      "cell_type": "code",
      "metadata": {
        "colab": {
          "base_uri": "https://localhost:8080/"
        },
        "id": "gd5BoRG3jY0n",
        "outputId": "1ddf5dce-d1d5-416e-d3b8-e643da888687"
      },
      "source": [
        "# 코드 5-16 VGG16 합성곱 기반 층 만들기\n",
        "from keras.applications import VGG16\n",
        "\n",
        "conv_base = VGG16(weights='imagenet',\n",
        "                  include_top=False,\n",
        "                  input_shape=(150, 150, 3))\n",
        "conv_base.summary()"
      ],
      "execution_count": 3,
      "outputs": [
        {
          "output_type": "stream",
          "text": [
            "Using TensorFlow backend.\n"
          ],
          "name": "stderr"
        },
        {
          "output_type": "stream",
          "text": [
            "Downloading data from https://github.com/fchollet/deep-learning-models/releases/download/v0.1/vgg16_weights_tf_dim_ordering_tf_kernels_notop.h5\n",
            "58892288/58889256 [==============================] - 1s 0us/step\n",
            "Model: \"vgg16\"\n",
            "_________________________________________________________________\n",
            "Layer (type)                 Output Shape              Param #   \n",
            "=================================================================\n",
            "input_1 (InputLayer)         (None, 150, 150, 3)       0         \n",
            "_________________________________________________________________\n",
            "block1_conv1 (Conv2D)        (None, 150, 150, 64)      1792      \n",
            "_________________________________________________________________\n",
            "block1_conv2 (Conv2D)        (None, 150, 150, 64)      36928     \n",
            "_________________________________________________________________\n",
            "block1_pool (MaxPooling2D)   (None, 75, 75, 64)        0         \n",
            "_________________________________________________________________\n",
            "block2_conv1 (Conv2D)        (None, 75, 75, 128)       73856     \n",
            "_________________________________________________________________\n",
            "block2_conv2 (Conv2D)        (None, 75, 75, 128)       147584    \n",
            "_________________________________________________________________\n",
            "block2_pool (MaxPooling2D)   (None, 37, 37, 128)       0         \n",
            "_________________________________________________________________\n",
            "block3_conv1 (Conv2D)        (None, 37, 37, 256)       295168    \n",
            "_________________________________________________________________\n",
            "block3_conv2 (Conv2D)        (None, 37, 37, 256)       590080    \n",
            "_________________________________________________________________\n",
            "block3_conv3 (Conv2D)        (None, 37, 37, 256)       590080    \n",
            "_________________________________________________________________\n",
            "block3_pool (MaxPooling2D)   (None, 18, 18, 256)       0         \n",
            "_________________________________________________________________\n",
            "block4_conv1 (Conv2D)        (None, 18, 18, 512)       1180160   \n",
            "_________________________________________________________________\n",
            "block4_conv2 (Conv2D)        (None, 18, 18, 512)       2359808   \n",
            "_________________________________________________________________\n",
            "block4_conv3 (Conv2D)        (None, 18, 18, 512)       2359808   \n",
            "_________________________________________________________________\n",
            "block4_pool (MaxPooling2D)   (None, 9, 9, 512)         0         \n",
            "_________________________________________________________________\n",
            "block5_conv1 (Conv2D)        (None, 9, 9, 512)         2359808   \n",
            "_________________________________________________________________\n",
            "block5_conv2 (Conv2D)        (None, 9, 9, 512)         2359808   \n",
            "_________________________________________________________________\n",
            "block5_conv3 (Conv2D)        (None, 9, 9, 512)         2359808   \n",
            "_________________________________________________________________\n",
            "block5_pool (MaxPooling2D)   (None, 4, 4, 512)         0         \n",
            "=================================================================\n",
            "Total params: 14,714,688\n",
            "Trainable params: 14,714,688\n",
            "Non-trainable params: 0\n",
            "_________________________________________________________________\n"
          ],
          "name": "stdout"
        }
      ]
    },
    {
      "cell_type": "markdown",
      "metadata": {
        "id": "KyO9zzZHmJsY"
      },
      "source": [
        "최종 특성 맵의 크기는 (4, 4, 512)입니다. 이 특성 위에 완전 연결 층을 놓을 것입니다."
      ]
    },
    {
      "cell_type": "markdown",
      "metadata": {
        "id": "lhM9w_zxmqtX"
      },
      "source": [
        "## 1. 데이터 증식을 사용하지 않는 빠른 특성 추출\n",
        "\n",
        "ImageDatagenerator를 사용하여 이미지와 레이블을 넘파이 배열로 추출합니다.\n",
        "conv_base 모델의 predict 메서드를 호출하여 이 이미지에서 특성을 추출합니다.\n",
        "추출된 특성의 크기는 (samples, 4, 4, 512)이기에 완전 연결 분류기에 넣기 위해 (samples, 8192)크기로 펼칩니다."
      ]
    },
    {
      "cell_type": "code",
      "metadata": {
        "colab": {
          "base_uri": "https://localhost:8080/"
        },
        "id": "3Z8fbLNbl7eH",
        "outputId": "5e9d27ac-b7f7-4cae-c861-46532823598b"
      },
      "source": [
        "import os\n",
        "import numpy as np\n",
        "from keras.preprocessing.image import ImageDataGenerator\n",
        "\n",
        "base_dir = '/content/drive/My Drive/COLAB/SAI/cats_and_dogs_small'\n",
        "\n",
        "train_dir = os.path.join(base_dir, 'train')\n",
        "validation_dir = os.path.join(base_dir, 'validation')\n",
        "test_dir = os.path.join(base_dir, 'test')\n",
        "\n",
        "datagen = ImageDataGenerator(rescale=1./255)\n",
        "batch_size = 20\n",
        "\n",
        "def extract_features(directory, sample_count):\n",
        "    features = np.zeros(shape=(sample_count, 4, 4, 512))\n",
        "    labels = np.zeros(shape=(sample_count))\n",
        "    generator = datagen.flow_from_directory(\n",
        "        directory,\n",
        "        target_size=(150, 150),\n",
        "        batch_size=batch_size,\n",
        "        class_mode='binary')\n",
        "    i = 0\n",
        "    for inputs_batch, labels_batch in generator:\n",
        "        features_batch = conv_base.predict(inputs_batch)\n",
        "        features[i * batch_size : (i + 1) * batch_size] = features_batch\n",
        "        labels[i * batch_size : (i + 1) * batch_size] = labels_batch\n",
        "        i += 1\n",
        "        if i * batch_size >= sample_count:\n",
        "            # 제너레이터는 루프 안에서 무한하게 데이터를 만들어내므로 모든 이미지를 한 번씩 처리하고 나면 중지합니다\n",
        "            break\n",
        "    return features, labels\n",
        "\n",
        "train_features, train_labels = extract_features(train_dir, 2000)\n",
        "validation_features, validation_labels = extract_features(validation_dir, 1000)\n",
        "test_features, test_labels = extract_features(test_dir, 1000)"
      ],
      "execution_count": 4,
      "outputs": [
        {
          "output_type": "stream",
          "text": [
            "Found 2000 images belonging to 2 classes.\n",
            "Found 1000 images belonging to 2 classes.\n",
            "Found 1000 images belonging to 2 classes.\n"
          ],
          "name": "stdout"
        }
      ]
    },
    {
      "cell_type": "code",
      "metadata": {
        "id": "dyM-z-ubxhEg"
      },
      "source": [
        "train_features = np.reshape(train_features, (2000, 4 * 4 * 512))\n",
        "validation_features = np.reshape(validation_features, (1000, 4 * 4 * 512))\n",
        "test_features = np.reshape(test_features, (1000, 4 * 4 * 512))"
      ],
      "execution_count": 5,
      "outputs": []
    },
    {
      "cell_type": "markdown",
      "metadata": {
        "id": "hqjHWGoTm80m"
      },
      "source": [
        "이제 여기서 완전 연결 분류기를 정의하고 저장된 데이터와 레이블을 사용하여 훈련합니다. 규제를 위해 드롭아웃을 사용합니다."
      ]
    },
    {
      "cell_type": "code",
      "metadata": {
        "colab": {
          "base_uri": "https://localhost:8080/"
        },
        "id": "xlYhKGN_m4-T",
        "outputId": "01755e66-2a19-4038-87c8-76083024b7c3"
      },
      "source": [
        "# 코드 5-18 완전 연결 분류기를 정의하고 훈련하기\n",
        "from keras import models\n",
        "from keras import layers\n",
        "from keras import optimizers\n",
        "\n",
        "model = models.Sequential()\n",
        "model.add(layers.Dense(256, activation='relu', input_dim=4 * 4 * 512))\n",
        "model.add(layers.Dropout(0.5))\n",
        "model.add(layers.Dense(1, activation='sigmoid'))\n",
        "\n",
        "model.compile(optimizer=optimizers.RMSprop(lr=2e-5),\n",
        "              loss='binary_crossentropy',\n",
        "              metrics=['acc'])\n",
        "\n",
        "history = model.fit(train_features, train_labels,\n",
        "                    epochs=30,\n",
        "                    batch_size=20,\n",
        "                    validation_data=(validation_features, validation_labels))"
      ],
      "execution_count": 6,
      "outputs": [
        {
          "output_type": "stream",
          "text": [
            "Train on 2000 samples, validate on 1000 samples\n",
            "Epoch 1/30\n",
            "2000/2000 [==============================] - 1s 309us/step - loss: 0.5616 - acc: 0.7200 - val_loss: 0.4250 - val_acc: 0.8450\n",
            "Epoch 2/30\n",
            "2000/2000 [==============================] - 1s 256us/step - loss: 0.4130 - acc: 0.8220 - val_loss: 0.3575 - val_acc: 0.8670\n",
            "Epoch 3/30\n",
            "2000/2000 [==============================] - 1s 259us/step - loss: 0.3516 - acc: 0.8525 - val_loss: 0.3179 - val_acc: 0.8870\n",
            "Epoch 4/30\n",
            "2000/2000 [==============================] - 1s 252us/step - loss: 0.3088 - acc: 0.8790 - val_loss: 0.2954 - val_acc: 0.8890\n",
            "Epoch 5/30\n",
            "2000/2000 [==============================] - 1s 255us/step - loss: 0.2887 - acc: 0.8750 - val_loss: 0.2803 - val_acc: 0.8980\n",
            "Epoch 6/30\n",
            "2000/2000 [==============================] - 1s 256us/step - loss: 0.2614 - acc: 0.8990 - val_loss: 0.2732 - val_acc: 0.8960\n",
            "Epoch 7/30\n",
            "2000/2000 [==============================] - 1s 258us/step - loss: 0.2499 - acc: 0.9040 - val_loss: 0.2629 - val_acc: 0.9010\n",
            "Epoch 8/30\n",
            "2000/2000 [==============================] - 1s 253us/step - loss: 0.2297 - acc: 0.9115 - val_loss: 0.2620 - val_acc: 0.8920\n",
            "Epoch 9/30\n",
            "2000/2000 [==============================] - 1s 256us/step - loss: 0.2208 - acc: 0.9185 - val_loss: 0.2579 - val_acc: 0.8920\n",
            "Epoch 10/30\n",
            "2000/2000 [==============================] - 1s 257us/step - loss: 0.2077 - acc: 0.9180 - val_loss: 0.2473 - val_acc: 0.9040\n",
            "Epoch 11/30\n",
            "2000/2000 [==============================] - 1s 257us/step - loss: 0.1995 - acc: 0.9235 - val_loss: 0.2439 - val_acc: 0.9050\n",
            "Epoch 12/30\n",
            "2000/2000 [==============================] - 0s 249us/step - loss: 0.1935 - acc: 0.9300 - val_loss: 0.2429 - val_acc: 0.9060\n",
            "Epoch 13/30\n",
            "2000/2000 [==============================] - 1s 254us/step - loss: 0.1796 - acc: 0.9310 - val_loss: 0.2410 - val_acc: 0.9080\n",
            "Epoch 14/30\n",
            "2000/2000 [==============================] - 1s 259us/step - loss: 0.1730 - acc: 0.9405 - val_loss: 0.2614 - val_acc: 0.8870\n",
            "Epoch 15/30\n",
            "2000/2000 [==============================] - 1s 253us/step - loss: 0.1654 - acc: 0.9400 - val_loss: 0.2369 - val_acc: 0.9070\n",
            "Epoch 16/30\n",
            "2000/2000 [==============================] - 0s 245us/step - loss: 0.1637 - acc: 0.9435 - val_loss: 0.2382 - val_acc: 0.9100\n",
            "Epoch 17/30\n",
            "2000/2000 [==============================] - 1s 255us/step - loss: 0.1512 - acc: 0.9455 - val_loss: 0.2384 - val_acc: 0.9060\n",
            "Epoch 18/30\n",
            "2000/2000 [==============================] - 0s 249us/step - loss: 0.1501 - acc: 0.9460 - val_loss: 0.2344 - val_acc: 0.9110\n",
            "Epoch 19/30\n",
            "2000/2000 [==============================] - 1s 252us/step - loss: 0.1401 - acc: 0.9525 - val_loss: 0.2422 - val_acc: 0.9050\n",
            "Epoch 20/30\n",
            "2000/2000 [==============================] - 0s 249us/step - loss: 0.1349 - acc: 0.9515 - val_loss: 0.2338 - val_acc: 0.9070\n",
            "Epoch 21/30\n",
            "2000/2000 [==============================] - 1s 259us/step - loss: 0.1283 - acc: 0.9605 - val_loss: 0.2335 - val_acc: 0.9060\n",
            "Epoch 22/30\n",
            "2000/2000 [==============================] - 0s 249us/step - loss: 0.1282 - acc: 0.9545 - val_loss: 0.2326 - val_acc: 0.9070\n",
            "Epoch 23/30\n",
            "2000/2000 [==============================] - 1s 256us/step - loss: 0.1146 - acc: 0.9610 - val_loss: 0.2327 - val_acc: 0.9050\n",
            "Epoch 24/30\n",
            "2000/2000 [==============================] - 1s 255us/step - loss: 0.1188 - acc: 0.9605 - val_loss: 0.2334 - val_acc: 0.9070\n",
            "Epoch 25/30\n",
            "2000/2000 [==============================] - 1s 257us/step - loss: 0.1140 - acc: 0.9625 - val_loss: 0.2333 - val_acc: 0.9050\n",
            "Epoch 26/30\n",
            "2000/2000 [==============================] - 1s 253us/step - loss: 0.1135 - acc: 0.9595 - val_loss: 0.2352 - val_acc: 0.9050\n",
            "Epoch 27/30\n",
            "2000/2000 [==============================] - 1s 254us/step - loss: 0.0986 - acc: 0.9645 - val_loss: 0.2395 - val_acc: 0.9070\n",
            "Epoch 28/30\n",
            "2000/2000 [==============================] - 1s 254us/step - loss: 0.1044 - acc: 0.9675 - val_loss: 0.2342 - val_acc: 0.9040\n",
            "Epoch 29/30\n",
            "2000/2000 [==============================] - 1s 257us/step - loss: 0.0962 - acc: 0.9705 - val_loss: 0.2360 - val_acc: 0.9030\n",
            "Epoch 30/30\n",
            "2000/2000 [==============================] - 1s 254us/step - loss: 0.0936 - acc: 0.9730 - val_loss: 0.2355 - val_acc: 0.9040\n"
          ],
          "name": "stdout"
        }
      ]
    },
    {
      "cell_type": "markdown",
      "metadata": {
        "id": "p08wDISenJd7"
      },
      "source": [
        "다음은 훈련 손실과 정확도 곡선 그래프 입니다."
      ]
    },
    {
      "cell_type": "code",
      "metadata": {
        "colab": {
          "base_uri": "https://localhost:8080/",
          "height": 545
        },
        "id": "HX1F_I-Lm-59",
        "outputId": "7376228e-7993-455e-fd74-483ff7e528ec"
      },
      "source": [
        "# 코드 5-19 결과 그래프 그리기\n",
        "import matplotlib.pyplot as plt\n",
        "acc = history.history['acc']\n",
        "val_acc = history.history['val_acc']\n",
        "loss = history.history['loss']\n",
        "val_loss = history.history['val_loss']\n",
        "\n",
        "epochs = range(len(acc))\n",
        "\n",
        "plt.plot(epochs, acc, 'bo', label='Training acc')\n",
        "plt.plot(epochs, val_acc, 'b', label='Validation acc')\n",
        "plt.title('Training and validation accuracy')\n",
        "plt.legend()\n",
        "\n",
        "plt.figure()\n",
        "\n",
        "plt.plot(epochs, loss, 'bo', label='Training loss')\n",
        "plt.plot(epochs, val_loss, 'b', label='Validation loss')\n",
        "plt.title('Training and validation loss')\n",
        "plt.legend()\n",
        "\n",
        "plt.show()"
      ],
      "execution_count": 7,
      "outputs": [
        {
          "output_type": "display_data",
          "data": {
            "image/png": "[encoded data removed]",
            "text/plain": [
              "<Figure size 432x288 with 1 Axes>"
            ]
          },
          "metadata": {
            "tags": [],
            "needs_background": "light"
          }
        },
        {
          "output_type": "display_data",
          "data": {
            "image/png": "[encoded data removed]",
            "text/plain": [
              "<Figure size 432x288 with 1 Axes>"
            ]
          },
          "metadata": {
            "tags": [],
            "needs_background": "light"
          }
        }
      ]
    },
    {
      "cell_type": "markdown",
      "metadata": {
        "id": "wZiJ8muKnTu3"
      },
      "source": [
        "약 90%의 검증 정확도에 도달했습니다. 이전 절에서 처음부터 훈련시킨 작은 모델에서 얻은 것보다 훨씬 좋습니다. 하지만 이 그래프는 많은 비율로 드롭아웃을 사용했음에도 불구하고 훈련이 시작하면서 거의 바로 과대적합되고 있다는 것을 보여줍니다. 작은 이미지 데이터셋에서는 과대적합을 막기 위해 필수적인 데이터 증식을 사용하지 않았기 때문입니다."
      ]
    },
    {
      "cell_type": "markdown",
      "metadata": {
        "id": "vt8l2PGQnZPt"
      },
      "source": [
        "## 2. 데이터 증식을 사용한 특성 추출"
      ]
    },
    {
      "cell_type": "markdown",
      "metadata": {
        "id": "gMtmDLGKycaE"
      },
      "source": [
        "conv_base 모델을 확장하고 입력 데이터를 사용해 엔드 투 엔드로 실행합니다."
      ]
    },
    {
      "cell_type": "code",
      "metadata": {
        "id": "DUB9-WilnUE3"
      },
      "source": [
        "from keras import models\n",
        "from keras import layers\n",
        "\n",
        "model = models.Sequential()\n",
        "model.add(conv_base)\n",
        "model.add(layers.Flatten())\n",
        "model.add(layers.Dense(256, activation='relu'))\n",
        "model.add(layers.Dense(1, activation='sigmoid'))"
      ],
      "execution_count": 8,
      "outputs": []
    },
    {
      "cell_type": "code",
      "metadata": {
        "colab": {
          "base_uri": "https://localhost:8080/"
        },
        "id": "c0-7h7hWyhi7",
        "outputId": "009c7c23-2365-4bd3-a690-7bdf35686ff6"
      },
      "source": [
        "model.summary()"
      ],
      "execution_count": 9,
      "outputs": [
        {
          "output_type": "stream",
          "text": [
            "Model: \"sequential_2\"\n",
            "_________________________________________________________________\n",
            "Layer (type)                 Output Shape              Param #   \n",
            "=================================================================\n",
            "vgg16 (Model)                (None, 4, 4, 512)         14714688  \n",
            "_________________________________________________________________\n",
            "flatten_1 (Flatten)          (None, 8192)              0         \n",
            "_________________________________________________________________\n",
            "dense_3 (Dense)              (None, 256)               2097408   \n",
            "_________________________________________________________________\n",
            "dense_4 (Dense)              (None, 1)                 257       \n",
            "=================================================================\n",
            "Total params: 16,812,353\n",
            "Trainable params: 16,812,353\n",
            "Non-trainable params: 0\n",
            "_________________________________________________________________\n"
          ],
          "name": "stdout"
        }
      ]
    },
    {
      "cell_type": "markdown",
      "metadata": {
        "id": "UiHV8jrWzL6t"
      },
      "source": [
        "모델을 컴파일하고 훈련하기 전에 합성곱 기반층을 동결하는 것이 아주 중요합니다. 하나 이상의 층을 동결한다는 것은 훈련하는 동안 가중치가 업데이트되지 않도록 막는다는 뜻입니다. 이렇게 하지 않으면 합성곱 기반층에 의해 사전에 학습된 표현이 훈련하는 동안 수정될 것입니다\n",
        "\n",
        "케라스에서는 trainable 속성을 False로 설정하여 네트워크를 동결할 수 있습니다:"
      ]
    },
    {
      "cell_type": "code",
      "metadata": {
        "colab": {
          "base_uri": "https://localhost:8080/"
        },
        "id": "MXtN8lEnykjh",
        "outputId": "07b93b17-4454-4f55-9315-e03c4f3fd60b"
      },
      "source": [
        "print('conv_base를 동결하기 전 훈련되는 가중치의 수:', \n",
        "      len(model.trainable_weights))"
      ],
      "execution_count": 10,
      "outputs": [
        {
          "output_type": "stream",
          "text": [
            "conv_base를 동결하기 전 훈련되는 가중치의 수: 30\n"
          ],
          "name": "stdout"
        }
      ]
    },
    {
      "cell_type": "code",
      "metadata": {
        "id": "Nspzg8UczTJU"
      },
      "source": [
        "conv_base.trainable = False"
      ],
      "execution_count": 11,
      "outputs": []
    },
    {
      "cell_type": "code",
      "metadata": {
        "colab": {
          "base_uri": "https://localhost:8080/"
        },
        "id": "GjxNRLUxzUaW",
        "outputId": "e38706ac-e10e-4888-bc6f-5ad9e590f5d2"
      },
      "source": [
        "print('conv_base를 동결한 후 훈련되는 가중치의 수:', \n",
        "      len(model.trainable_weights))"
      ],
      "execution_count": 12,
      "outputs": [
        {
          "output_type": "stream",
          "text": [
            "conv_base를 동결한 후 훈련되는 가중치의 수: 4\n"
          ],
          "name": "stdout"
        }
      ]
    },
    {
      "cell_type": "code",
      "metadata": {
        "colab": {
          "base_uri": "https://localhost:8080/"
        },
        "id": "m8uKUig0zhWt",
        "outputId": "8582d3ad-003b-41a6-94f4-d982ee30806e"
      },
      "source": [
        "from keras.preprocessing.image import ImageDataGenerator\n",
        "\n",
        "train_datagen = ImageDataGenerator(\n",
        "      rescale=1./255,\n",
        "      rotation_range=20,\n",
        "      width_shift_range=0.1,\n",
        "      height_shift_range=0.1,\n",
        "      shear_range=0.1,\n",
        "      zoom_range=0.1,\n",
        "      horizontal_flip=True,\n",
        "      fill_mode='nearest')\n",
        "\n",
        "# 검증 데이터는 증식되어서는 안 됩니다!\n",
        "test_datagen = ImageDataGenerator(rescale=1./255)\n",
        "\n",
        "train_generator = train_datagen.flow_from_directory(\n",
        "        # 타깃 디렉터리\n",
        "        train_dir,\n",
        "        # 모든 이미지의 크기를 150 × 150로 변경합니다\n",
        "        target_size=(150, 150),\n",
        "        batch_size=20,\n",
        "        # binary_crossentropy 손실을 사용하므로 이진 레이블이 필요합니다\n",
        "        class_mode='binary')\n",
        "\n",
        "validation_generator = test_datagen.flow_from_directory(\n",
        "        validation_dir,\n",
        "        target_size=(150, 150),\n",
        "        batch_size=20,\n",
        "        class_mode='binary')\n",
        "\n",
        "model.compile(loss='binary_crossentropy',\n",
        "              optimizer=optimizers.RMSprop(lr=2e-5),\n",
        "              metrics=['acc'])\n",
        "\n",
        "history = model.fit_generator(\n",
        "      train_generator,\n",
        "      steps_per_epoch=100,\n",
        "      epochs=30,\n",
        "      validation_data=validation_generator,\n",
        "      validation_steps=50,\n",
        "      verbose=2)"
      ],
      "execution_count": 13,
      "outputs": [
        {
          "output_type": "stream",
          "text": [
            "Found 2000 images belonging to 2 classes.\n",
            "Found 1000 images belonging to 2 classes.\n",
            "Epoch 1/30\n",
            " - 22s - loss: 0.5634 - acc: 0.7175 - val_loss: 0.3201 - val_acc: 0.8440\n",
            "Epoch 2/30\n",
            " - 20s - loss: 0.4129 - acc: 0.8255 - val_loss: 0.3680 - val_acc: 0.8340\n",
            "Epoch 3/30\n",
            " - 19s - loss: 0.3525 - acc: 0.8550 - val_loss: 0.2504 - val_acc: 0.8890\n",
            "Epoch 4/30\n",
            " - 19s - loss: 0.3232 - acc: 0.8655 - val_loss: 0.2666 - val_acc: 0.8950\n",
            "Epoch 5/30\n",
            " - 19s - loss: 0.3030 - acc: 0.8765 - val_loss: 0.1183 - val_acc: 0.8910\n",
            "Epoch 6/30\n",
            " - 19s - loss: 0.2881 - acc: 0.8885 - val_loss: 0.4483 - val_acc: 0.8970\n",
            "Epoch 7/30\n",
            " - 19s - loss: 0.2813 - acc: 0.8835 - val_loss: 0.1617 - val_acc: 0.8990\n",
            "Epoch 8/30\n",
            " - 19s - loss: 0.2714 - acc: 0.8880 - val_loss: 0.1058 - val_acc: 0.8940\n",
            "Epoch 9/30\n",
            " - 19s - loss: 0.2588 - acc: 0.9015 - val_loss: 0.0441 - val_acc: 0.8950\n",
            "Epoch 10/30\n",
            " - 19s - loss: 0.2480 - acc: 0.9055 - val_loss: 0.1421 - val_acc: 0.9020\n",
            "Epoch 11/30\n",
            " - 19s - loss: 0.2433 - acc: 0.9050 - val_loss: 0.2072 - val_acc: 0.8910\n",
            "Epoch 12/30\n",
            " - 19s - loss: 0.2349 - acc: 0.9085 - val_loss: 0.3834 - val_acc: 0.8960\n",
            "Epoch 13/30\n",
            " - 19s - loss: 0.2387 - acc: 0.9045 - val_loss: 0.3047 - val_acc: 0.9030\n",
            "Epoch 14/30\n",
            " - 19s - loss: 0.2300 - acc: 0.9015 - val_loss: 0.2020 - val_acc: 0.8930\n",
            "Epoch 15/30\n",
            " - 19s - loss: 0.2181 - acc: 0.9125 - val_loss: 0.2416 - val_acc: 0.9060\n",
            "Epoch 16/30\n",
            " - 19s - loss: 0.2289 - acc: 0.9075 - val_loss: 0.2281 - val_acc: 0.9040\n",
            "Epoch 17/30\n",
            " - 19s - loss: 0.2195 - acc: 0.9080 - val_loss: 0.4648 - val_acc: 0.9040\n",
            "Epoch 18/30\n",
            " - 19s - loss: 0.2096 - acc: 0.9120 - val_loss: 0.1308 - val_acc: 0.9010\n",
            "Epoch 19/30\n",
            " - 19s - loss: 0.2091 - acc: 0.9235 - val_loss: 0.3589 - val_acc: 0.8900\n",
            "Epoch 20/30\n",
            " - 19s - loss: 0.2103 - acc: 0.9165 - val_loss: 0.3741 - val_acc: 0.9000\n",
            "Epoch 21/30\n",
            " - 19s - loss: 0.2008 - acc: 0.9235 - val_loss: 0.1538 - val_acc: 0.9050\n",
            "Epoch 22/30\n",
            " - 19s - loss: 0.1997 - acc: 0.9200 - val_loss: 0.1680 - val_acc: 0.9080\n",
            "Epoch 23/30\n",
            " - 19s - loss: 0.2023 - acc: 0.9195 - val_loss: 0.2250 - val_acc: 0.9060\n",
            "Epoch 24/30\n",
            " - 19s - loss: 0.1972 - acc: 0.9200 - val_loss: 0.0783 - val_acc: 0.9070\n",
            "Epoch 25/30\n",
            " - 19s - loss: 0.1914 - acc: 0.9270 - val_loss: 0.2033 - val_acc: 0.9070\n",
            "Epoch 26/30\n",
            " - 19s - loss: 0.1957 - acc: 0.9240 - val_loss: 0.1745 - val_acc: 0.9070\n",
            "Epoch 27/30\n",
            " - 19s - loss: 0.1943 - acc: 0.9195 - val_loss: 0.0330 - val_acc: 0.8950\n",
            "Epoch 28/30\n",
            " - 19s - loss: 0.1864 - acc: 0.9310 - val_loss: 0.1470 - val_acc: 0.9070\n",
            "Epoch 29/30\n",
            " - 19s - loss: 0.1965 - acc: 0.9165 - val_loss: 0.0851 - val_acc: 0.8990\n",
            "Epoch 30/30\n",
            " - 19s - loss: 0.1951 - acc: 0.9295 - val_loss: 0.1378 - val_acc: 0.9060\n"
          ],
          "name": "stdout"
        }
      ]
    },
    {
      "cell_type": "code",
      "metadata": {
        "id": "vXMpleEpzoN8"
      },
      "source": [
        "model.save('cats_and_dogs_small_3.h5')"
      ],
      "execution_count": 14,
      "outputs": []
    },
    {
      "cell_type": "markdown",
      "metadata": {
        "id": "_5XcavzBzsFd"
      },
      "source": [
        "결과 그래프를 다시 그려 봅시다:"
      ]
    },
    {
      "cell_type": "code",
      "metadata": {
        "id": "acQWO9b1zqOn",
        "colab": {
          "base_uri": "https://localhost:8080/",
          "height": 545
        },
        "outputId": "d752ca20-6010-4270-affe-a3f38c5e938a"
      },
      "source": [
        "acc = history.history['acc']\n",
        "val_acc = history.history['val_acc']\n",
        "loss = history.history['loss']\n",
        "val_loss = history.history['val_loss']\n",
        "\n",
        "epochs = range(len(acc))\n",
        "\n",
        "plt.plot(epochs, acc, 'bo', label='Training acc')\n",
        "plt.plot(epochs, val_acc, 'b', label='Validation acc')\n",
        "plt.title('Training and validation accuracy')\n",
        "plt.legend()\n",
        "\n",
        "plt.figure()\n",
        "\n",
        "plt.plot(epochs, loss, 'bo', label='Training loss')\n",
        "plt.plot(epochs, val_loss, 'b', label='Validation loss')\n",
        "plt.title('Training and validation loss')\n",
        "plt.legend()\n",
        "\n",
        "plt.show()"
      ],
      "execution_count": 15,
      "outputs": [
        {
          "output_type": "display_data",
          "data": {
            "image/png": "[encoded data removed]",
            "text/plain": [
              "<Figure size 432x288 with 1 Axes>"
            ]
          },
          "metadata": {
            "tags": [],
            "needs_background": "light"
          }
        },
        {
          "output_type": "display_data",
          "data": {
            "image/png": "[encoded data removed]",
            "text/plain": [
              "<Figure size 432x288 with 1 Axes>"
            ]
          },
          "metadata": {
            "tags": [],
            "needs_background": "light"
          }
        }
      ]
    },
    {
      "cell_type": "markdown",
      "metadata": {
        "id": "si4c7CDgzvdV"
      },
      "source": [
        "여기서 볼 수 있듯이 검증 정확도가 이전과 비슷하지만 처음부터 훈련시킨 소규모 컨브넷보다 과대적합이 줄었습니다."
      ]
    },
    {
      "cell_type": "markdown",
      "metadata": {
        "id": "8ryPycvCzx1L"
      },
      "source": [
        "## 미세 조정\n",
        "\n",
        "미세 조정은 특성 추출에 사용했던 동결 모델의 상위 층 몇 개를 동결에서 해제하고 모델에 새로 추가한 층(여기서는 완전 연결 분류기)과 함께 훈련하는 것입니다. 주어진 문제에 조금 더 밀접하게 재사용 모델의 표현을 일부 조정하기 때문에 미세 조정이라고 부릅니다."
      ]
    },
    {
      "cell_type": "markdown",
      "metadata": {
        "id": "tZ6UQ9H20jEr"
      },
      "source": [
        "네트워크를 미세 조정하는 단계는 다음과 같습니다:\n",
        "\n",
        "1. 사전에 훈련된 기반 네트워크 위에 새로운 네트워크를 추가합니다.\n",
        "2. 기반 네트워크를 동결합니다.\n",
        "3. 새로 추가한 네트워크를 훈련합니다.\n",
        "4. 기반 네트워크에서 일부 층의 동결을 해제합니다.\n",
        "5. 동결을 해제한 층과 새로 추가한 층을 함께 훈련합니다."
      ]
    },
    {
      "cell_type": "markdown",
      "metadata": {
        "id": "cOeTMJyO0w_R"
      },
      "source": [
        "처음 세 단계는 특성 추출을 할 때 이미 완료했으므로 네 번째 단계를 진행합니다. conv_base의 동결을 해제하고 개별 층을 동결하겠습니다."
      ]
    },
    {
      "cell_type": "code",
      "metadata": {
        "id": "IKtx0ifM1HBH",
        "colab": {
          "base_uri": "https://localhost:8080/"
        },
        "outputId": "2c55c712-3e90-467c-9898-137559de2436"
      },
      "source": [
        "model.summary()"
      ],
      "execution_count": 16,
      "outputs": [
        {
          "output_type": "stream",
          "text": [
            "Model: \"sequential_2\"\n",
            "_________________________________________________________________\n",
            "Layer (type)                 Output Shape              Param #   \n",
            "=================================================================\n",
            "vgg16 (Model)                (None, 4, 4, 512)         14714688  \n",
            "_________________________________________________________________\n",
            "flatten_1 (Flatten)          (None, 8192)              0         \n",
            "_________________________________________________________________\n",
            "dense_3 (Dense)              (None, 256)               2097408   \n",
            "_________________________________________________________________\n",
            "dense_4 (Dense)              (None, 1)                 257       \n",
            "=================================================================\n",
            "Total params: 16,812,353\n",
            "Trainable params: 2,097,665\n",
            "Non-trainable params: 14,714,688\n",
            "_________________________________________________________________\n"
          ],
          "name": "stdout"
        }
      ]
    },
    {
      "cell_type": "markdown",
      "metadata": {
        "id": "Q9VQ-XTj1PUy"
      },
      "source": [
        "block5_conv1, block5_conv2, block5_conv3 층은 학습 대상이 됩니다.\n",
        "\n",
        "왜 더 많은 층을 미세 조정하지 않을까요? 왜 전체 합성곱 기반층을 미세 조정하지 않을까요? 그렇게 할 수도 있지만 다음 사항을 고려해야 합니다:\n",
        "\n",
        "합성곱 기반층에 있는 하위 층들은 좀 더 일반적이고 재사용 가능한 특성들을 인코딩합니다. 반면 상위 층은 좀 더 특화된 특성을 인코딩합니다. 새로운 문제에 재활용하도록 수정이 필요한 것은 구체적인 특성이므로 이들을 미세 조정하는 것이 유리합니다. 하위 층으로 갈수록 미세 조정에 대한 효과가 감소합니다.\n",
        "훈련해야 할 파라미터가 많을수록 과대적합의 위험이 커집니다. 합성곱 기반층은 1천 5백만 개의 파라미터를 가지고 있습니다. 작은 데이터셋으로 전부 훈련하려고 하면 매우 위험합니다.\n",
        "그러므로 이런 상황에서는 합성곱 기반층에서 최상위 두 세개의 층만 미세 조정하는 것이 좋습니다.\n",
        "\n"
      ]
    },
    {
      "cell_type": "code",
      "metadata": {
        "id": "bKBYFSot1RkO"
      },
      "source": [
        "conv_base.trainable = True\n",
        "\n",
        "set_trainable = False\n",
        "for layer in conv_base.layers:\n",
        "    if layer.name == 'block5_conv1':\n",
        "        set_trainable = True\n",
        "    if set_trainable:\n",
        "        layer.trainable = True\n",
        "    else:\n",
        "        layer.trainable = False"
      ],
      "execution_count": 17,
      "outputs": []
    },
    {
      "cell_type": "code",
      "metadata": {
        "id": "imnjYff01XCh",
        "colab": {
          "base_uri": "https://localhost:8080/"
        },
        "outputId": "3f27de32-5b6d-4dd6-8f98-6e70934355ea"
      },
      "source": [
        "model.compile(loss='binary_crossentropy',\n",
        "              optimizer=optimizers.RMSprop(lr=1e-5),\n",
        "              metrics=['acc'])\n",
        "\n",
        "history = model.fit_generator(\n",
        "      train_generator,\n",
        "      steps_per_epoch=100,\n",
        "      epochs=100,\n",
        "      validation_data=validation_generator,\n",
        "      validation_steps=50)"
      ],
      "execution_count": 18,
      "outputs": [
        {
          "output_type": "stream",
          "text": [
            "Epoch 1/100\n",
            "100/100 [==============================] - 23s 225ms/step - loss: 0.1931 - acc: 0.9210 - val_loss: 0.1087 - val_acc: 0.9140\n",
            "Epoch 2/100\n",
            "100/100 [==============================] - 21s 206ms/step - loss: 0.1652 - acc: 0.9300 - val_loss: 0.1661 - val_acc: 0.9190\n",
            "Epoch 3/100\n",
            "100/100 [==============================] - 20s 204ms/step - loss: 0.1398 - acc: 0.9475 - val_loss: 0.0552 - val_acc: 0.9130\n",
            "Epoch 4/100\n",
            "100/100 [==============================] - 20s 204ms/step - loss: 0.1217 - acc: 0.9530 - val_loss: 0.0415 - val_acc: 0.9060\n",
            "Epoch 5/100\n",
            "100/100 [==============================] - 21s 206ms/step - loss: 0.1084 - acc: 0.9615 - val_loss: 0.1976 - val_acc: 0.9030\n",
            "Epoch 6/100\n",
            "100/100 [==============================] - 20s 204ms/step - loss: 0.0985 - acc: 0.9595 - val_loss: 0.4503 - val_acc: 0.9230\n",
            "Epoch 7/100\n",
            "100/100 [==============================] - 20s 205ms/step - loss: 0.0787 - acc: 0.9720 - val_loss: 0.2719 - val_acc: 0.9190\n",
            "Epoch 8/100\n",
            "100/100 [==============================] - 20s 204ms/step - loss: 0.0673 - acc: 0.9735 - val_loss: 0.0346 - val_acc: 0.9170\n",
            "Epoch 9/100\n",
            "100/100 [==============================] - 20s 204ms/step - loss: 0.0666 - acc: 0.9785 - val_loss: 0.0066 - val_acc: 0.9280\n",
            "Epoch 10/100\n",
            "100/100 [==============================] - 20s 204ms/step - loss: 0.0713 - acc: 0.9740 - val_loss: 0.5584 - val_acc: 0.9280\n",
            "Epoch 11/100\n",
            "100/100 [==============================] - 21s 206ms/step - loss: 0.0534 - acc: 0.9845 - val_loss: 0.1751 - val_acc: 0.9320\n",
            "Epoch 12/100\n",
            "100/100 [==============================] - 21s 206ms/step - loss: 0.0446 - acc: 0.9840 - val_loss: 0.2252 - val_acc: 0.9300\n",
            "Epoch 13/100\n",
            "100/100 [==============================] - 21s 205ms/step - loss: 0.0447 - acc: 0.9860 - val_loss: 0.3368 - val_acc: 0.9340\n",
            "Epoch 14/100\n",
            "100/100 [==============================] - 20s 204ms/step - loss: 0.0397 - acc: 0.9865 - val_loss: 0.2827 - val_acc: 0.9380\n",
            "Epoch 15/100\n",
            "100/100 [==============================] - 20s 204ms/step - loss: 0.0335 - acc: 0.9865 - val_loss: 0.1239 - val_acc: 0.9330\n",
            "Epoch 16/100\n",
            "100/100 [==============================] - 20s 204ms/step - loss: 0.0268 - acc: 0.9935 - val_loss: 0.7227 - val_acc: 0.9380\n",
            "Epoch 17/100\n",
            "100/100 [==============================] - 21s 206ms/step - loss: 0.0277 - acc: 0.9915 - val_loss: 0.0738 - val_acc: 0.9330\n",
            "Epoch 18/100\n",
            "100/100 [==============================] - 20s 203ms/step - loss: 0.0304 - acc: 0.9890 - val_loss: 0.0302 - val_acc: 0.9350\n",
            "Epoch 19/100\n",
            "100/100 [==============================] - 20s 204ms/step - loss: 0.0232 - acc: 0.9925 - val_loss: 0.0403 - val_acc: 0.9400\n",
            "Epoch 20/100\n",
            "100/100 [==============================] - 20s 204ms/step - loss: 0.0223 - acc: 0.9940 - val_loss: 0.1216 - val_acc: 0.9400\n",
            "Epoch 21/100\n",
            "100/100 [==============================] - 20s 203ms/step - loss: 0.0248 - acc: 0.9900 - val_loss: 3.1670e-04 - val_acc: 0.9010\n",
            "Epoch 22/100\n",
            "100/100 [==============================] - 20s 203ms/step - loss: 0.0231 - acc: 0.9895 - val_loss: 0.3221 - val_acc: 0.9240\n",
            "Epoch 23/100\n",
            "100/100 [==============================] - 20s 203ms/step - loss: 0.0154 - acc: 0.9950 - val_loss: 0.3039 - val_acc: 0.9320\n",
            "Epoch 24/100\n",
            "100/100 [==============================] - 20s 204ms/step - loss: 0.0205 - acc: 0.9935 - val_loss: 0.0127 - val_acc: 0.9370\n",
            "Epoch 25/100\n",
            "100/100 [==============================] - 20s 204ms/step - loss: 0.0144 - acc: 0.9940 - val_loss: 0.2710 - val_acc: 0.9390\n",
            "Epoch 26/100\n",
            "100/100 [==============================] - 20s 204ms/step - loss: 0.0106 - acc: 0.9950 - val_loss: 0.2034 - val_acc: 0.9180\n",
            "Epoch 27/100\n",
            "100/100 [==============================] - 20s 202ms/step - loss: 0.0178 - acc: 0.9935 - val_loss: 0.1469 - val_acc: 0.9310\n",
            "Epoch 28/100\n",
            "100/100 [==============================] - 20s 203ms/step - loss: 0.0131 - acc: 0.9975 - val_loss: 0.0349 - val_acc: 0.9330\n",
            "Epoch 29/100\n",
            "100/100 [==============================] - 20s 203ms/step - loss: 0.0129 - acc: 0.9965 - val_loss: 0.0780 - val_acc: 0.9360\n",
            "Epoch 30/100\n",
            "100/100 [==============================] - 20s 203ms/step - loss: 0.0099 - acc: 0.9975 - val_loss: 0.6699 - val_acc: 0.9380\n",
            "Epoch 31/100\n",
            "100/100 [==============================] - 20s 204ms/step - loss: 0.0124 - acc: 0.9965 - val_loss: 0.0920 - val_acc: 0.9400\n",
            "Epoch 32/100\n",
            "100/100 [==============================] - 21s 209ms/step - loss: 0.0107 - acc: 0.9975 - val_loss: 0.6620 - val_acc: 0.9070\n",
            "Epoch 33/100\n",
            "100/100 [==============================] - 20s 205ms/step - loss: 0.0109 - acc: 0.9980 - val_loss: 0.0014 - val_acc: 0.9390\n",
            "Epoch 34/100\n",
            "100/100 [==============================] - 20s 204ms/step - loss: 0.0109 - acc: 0.9960 - val_loss: 0.7322 - val_acc: 0.8930\n",
            "Epoch 35/100\n",
            "100/100 [==============================] - 20s 205ms/step - loss: 0.0087 - acc: 0.9975 - val_loss: 0.5562 - val_acc: 0.9320\n",
            "Epoch 36/100\n",
            "100/100 [==============================] - 21s 206ms/step - loss: 0.0040 - acc: 1.0000 - val_loss: 0.4749 - val_acc: 0.9320\n",
            "Epoch 37/100\n",
            "100/100 [==============================] - 21s 206ms/step - loss: 0.0131 - acc: 0.9965 - val_loss: 0.3276 - val_acc: 0.9330\n",
            "Epoch 38/100\n",
            "100/100 [==============================] - 21s 206ms/step - loss: 0.0119 - acc: 0.9970 - val_loss: 0.1098 - val_acc: 0.9370\n",
            "Epoch 39/100\n",
            "100/100 [==============================] - 20s 205ms/step - loss: 0.0089 - acc: 0.9980 - val_loss: 0.2759 - val_acc: 0.9300\n",
            "Epoch 40/100\n",
            "100/100 [==============================] - 21s 207ms/step - loss: 0.0111 - acc: 0.9960 - val_loss: 0.0526 - val_acc: 0.9360\n",
            "Epoch 41/100\n",
            "100/100 [==============================] - 21s 206ms/step - loss: 0.0165 - acc: 0.9945 - val_loss: 0.6943 - val_acc: 0.9230\n",
            "Epoch 42/100\n",
            "100/100 [==============================] - 21s 206ms/step - loss: 0.0065 - acc: 0.9980 - val_loss: 0.3600 - val_acc: 0.9400\n",
            "Epoch 43/100\n",
            "100/100 [==============================] - 21s 211ms/step - loss: 0.0040 - acc: 0.9985 - val_loss: 0.5027 - val_acc: 0.9350\n",
            "Epoch 44/100\n",
            "100/100 [==============================] - 21s 210ms/step - loss: 0.0072 - acc: 0.9970 - val_loss: 0.3905 - val_acc: 0.9340\n",
            "Epoch 45/100\n",
            "100/100 [==============================] - 21s 207ms/step - loss: 0.0039 - acc: 0.9995 - val_loss: 0.8068 - val_acc: 0.9080\n",
            "Epoch 46/100\n",
            "100/100 [==============================] - 21s 205ms/step - loss: 0.0047 - acc: 0.9985 - val_loss: 0.3722 - val_acc: 0.9380\n",
            "Epoch 47/100\n",
            "100/100 [==============================] - 21s 209ms/step - loss: 0.0088 - acc: 0.9985 - val_loss: 0.1346 - val_acc: 0.9350\n",
            "Epoch 48/100\n",
            "100/100 [==============================] - 21s 206ms/step - loss: 0.0077 - acc: 0.9965 - val_loss: 0.3386 - val_acc: 0.9360\n",
            "Epoch 49/100\n",
            "100/100 [==============================] - 21s 207ms/step - loss: 0.0061 - acc: 0.9980 - val_loss: 0.3514 - val_acc: 0.9140\n",
            "Epoch 50/100\n",
            "100/100 [==============================] - 21s 205ms/step - loss: 0.0071 - acc: 0.9985 - val_loss: 0.9206 - val_acc: 0.9330\n",
            "Epoch 51/100\n",
            "100/100 [==============================] - 21s 207ms/step - loss: 0.0063 - acc: 0.9975 - val_loss: 0.0345 - val_acc: 0.9370\n",
            "Epoch 52/100\n",
            "100/100 [==============================] - 21s 210ms/step - loss: 0.0077 - acc: 0.9980 - val_loss: 0.1039 - val_acc: 0.9370\n",
            "Epoch 53/100\n",
            "100/100 [==============================] - 21s 207ms/step - loss: 0.0044 - acc: 0.9985 - val_loss: 0.0366 - val_acc: 0.9420\n",
            "Epoch 54/100\n",
            "100/100 [==============================] - 21s 208ms/step - loss: 0.0032 - acc: 0.9990 - val_loss: 0.0020 - val_acc: 0.9390\n",
            "Epoch 55/100\n",
            "100/100 [==============================] - 21s 208ms/step - loss: 0.0048 - acc: 0.9985 - val_loss: 2.8975e-04 - val_acc: 0.9330\n",
            "Epoch 56/100\n",
            "100/100 [==============================] - 21s 206ms/step - loss: 0.0071 - acc: 0.9965 - val_loss: 0.0519 - val_acc: 0.9370\n",
            "Epoch 57/100\n",
            "100/100 [==============================] - 21s 206ms/step - loss: 0.0095 - acc: 0.9975 - val_loss: 0.5705 - val_acc: 0.9320\n",
            "Epoch 58/100\n",
            "100/100 [==============================] - 20s 204ms/step - loss: 0.0065 - acc: 0.9980 - val_loss: 1.2172 - val_acc: 0.9100\n",
            "Epoch 59/100\n",
            "100/100 [==============================] - 20s 204ms/step - loss: 0.0030 - acc: 0.9995 - val_loss: 0.3118 - val_acc: 0.9350\n",
            "Epoch 60/100\n",
            "100/100 [==============================] - 20s 205ms/step - loss: 0.0016 - acc: 1.0000 - val_loss: 0.7067 - val_acc: 0.9320\n",
            "Epoch 61/100\n",
            "100/100 [==============================] - 21s 205ms/step - loss: 0.0064 - acc: 0.9975 - val_loss: 0.1082 - val_acc: 0.9390\n",
            "Epoch 62/100\n",
            "100/100 [==============================] - 21s 208ms/step - loss: 0.0035 - acc: 0.9990 - val_loss: 0.8228 - val_acc: 0.9310\n",
            "Epoch 63/100\n",
            "100/100 [==============================] - 20s 205ms/step - loss: 0.0040 - acc: 0.9990 - val_loss: 0.6089 - val_acc: 0.9280\n",
            "Epoch 64/100\n",
            "100/100 [==============================] - 21s 205ms/step - loss: 0.0024 - acc: 0.9990 - val_loss: 0.7868 - val_acc: 0.9410\n",
            "Epoch 65/100\n",
            "100/100 [==============================] - 20s 205ms/step - loss: 0.0022 - acc: 0.9995 - val_loss: 0.5520 - val_acc: 0.9360\n",
            "Epoch 66/100\n",
            "100/100 [==============================] - 20s 205ms/step - loss: 0.0086 - acc: 0.9980 - val_loss: 1.1293 - val_acc: 0.9340\n",
            "Epoch 67/100\n",
            "100/100 [==============================] - 21s 207ms/step - loss: 0.0035 - acc: 0.9985 - val_loss: 0.4892 - val_acc: 0.9430\n",
            "Epoch 68/100\n",
            "100/100 [==============================] - 20s 204ms/step - loss: 0.0026 - acc: 0.9990 - val_loss: 0.1629 - val_acc: 0.9320\n",
            "Epoch 69/100\n",
            "100/100 [==============================] - 20s 205ms/step - loss: 0.0046 - acc: 0.9980 - val_loss: 0.6344 - val_acc: 0.9300\n",
            "Epoch 70/100\n",
            "100/100 [==============================] - 20s 204ms/step - loss: 7.5399e-04 - acc: 1.0000 - val_loss: 0.1086 - val_acc: 0.9340\n",
            "Epoch 71/100\n",
            "100/100 [==============================] - 20s 205ms/step - loss: 0.0042 - acc: 0.9990 - val_loss: 0.0161 - val_acc: 0.9380\n",
            "Epoch 72/100\n",
            "100/100 [==============================] - 20s 204ms/step - loss: 0.0027 - acc: 0.9985 - val_loss: 0.8167 - val_acc: 0.9360\n",
            "Epoch 73/100\n",
            "100/100 [==============================] - 20s 203ms/step - loss: 0.0033 - acc: 0.9990 - val_loss: 0.0059 - val_acc: 0.9290\n",
            "Epoch 74/100\n",
            "100/100 [==============================] - 20s 204ms/step - loss: 0.0028 - acc: 0.9995 - val_loss: 1.4288 - val_acc: 0.9330\n",
            "Epoch 75/100\n",
            "100/100 [==============================] - 20s 205ms/step - loss: 0.0018 - acc: 0.9995 - val_loss: 3.3193e-05 - val_acc: 0.9400\n",
            "Epoch 76/100\n",
            "100/100 [==============================] - 20s 203ms/step - loss: 0.0030 - acc: 0.9980 - val_loss: 0.0082 - val_acc: 0.9390\n",
            "Epoch 77/100\n",
            "100/100 [==============================] - 21s 207ms/step - loss: 0.0040 - acc: 0.9995 - val_loss: 0.6305 - val_acc: 0.9310\n",
            "Epoch 78/100\n",
            "100/100 [==============================] - 20s 205ms/step - loss: 0.0017 - acc: 0.9990 - val_loss: 0.2135 - val_acc: 0.9400\n",
            "Epoch 79/100\n",
            "100/100 [==============================] - 21s 205ms/step - loss: 0.0019 - acc: 0.9995 - val_loss: 0.4573 - val_acc: 0.9350\n",
            "Epoch 80/100\n",
            "100/100 [==============================] - 20s 203ms/step - loss: 9.9139e-04 - acc: 1.0000 - val_loss: 5.6835e-04 - val_acc: 0.9400\n",
            "Epoch 81/100\n",
            "100/100 [==============================] - 20s 204ms/step - loss: 0.0028 - acc: 0.9990 - val_loss: 0.2484 - val_acc: 0.9380\n",
            "Epoch 82/100\n",
            "100/100 [==============================] - 21s 206ms/step - loss: 0.0011 - acc: 0.9995 - val_loss: 0.9989 - val_acc: 0.9380\n",
            "Epoch 83/100\n",
            "100/100 [==============================] - 21s 206ms/step - loss: 0.0059 - acc: 0.9985 - val_loss: 0.0043 - val_acc: 0.9360\n",
            "Epoch 84/100\n",
            "100/100 [==============================] - 21s 205ms/step - loss: 0.0037 - acc: 0.9985 - val_loss: 0.0647 - val_acc: 0.9380\n",
            "Epoch 85/100\n",
            "100/100 [==============================] - 20s 204ms/step - loss: 0.0067 - acc: 0.9975 - val_loss: 0.0959 - val_acc: 0.9380\n",
            "Epoch 86/100\n",
            "100/100 [==============================] - 20s 205ms/step - loss: 0.0014 - acc: 0.9995 - val_loss: 0.5397 - val_acc: 0.9390\n",
            "Epoch 87/100\n",
            "100/100 [==============================] - 21s 206ms/step - loss: 0.0037 - acc: 0.9995 - val_loss: 0.5589 - val_acc: 0.9390\n",
            "Epoch 88/100\n",
            "100/100 [==============================] - 20s 204ms/step - loss: 0.0014 - acc: 0.9990 - val_loss: 0.0200 - val_acc: 0.9410\n",
            "Epoch 89/100\n",
            "100/100 [==============================] - 20s 204ms/step - loss: 0.0029 - acc: 0.9995 - val_loss: 5.8019e-05 - val_acc: 0.9370\n",
            "Epoch 90/100\n",
            "100/100 [==============================] - 21s 205ms/step - loss: 2.6412e-04 - acc: 1.0000 - val_loss: 5.2184e-05 - val_acc: 0.9310\n",
            "Epoch 91/100\n",
            "100/100 [==============================] - 20s 204ms/step - loss: 5.4429e-04 - acc: 1.0000 - val_loss: 1.0688 - val_acc: 0.9320\n",
            "Epoch 92/100\n",
            "100/100 [==============================] - 21s 206ms/step - loss: 0.0011 - acc: 1.0000 - val_loss: 0.1186 - val_acc: 0.9370\n",
            "Epoch 93/100\n",
            "100/100 [==============================] - 20s 204ms/step - loss: 0.0030 - acc: 0.9990 - val_loss: 0.2763 - val_acc: 0.9400\n",
            "Epoch 94/100\n",
            "100/100 [==============================] - 20s 203ms/step - loss: 0.0047 - acc: 0.9970 - val_loss: 0.0018 - val_acc: 0.9350\n",
            "Epoch 95/100\n",
            "100/100 [==============================] - 20s 203ms/step - loss: 0.0021 - acc: 0.9990 - val_loss: 7.5459e-04 - val_acc: 0.9180\n",
            "Epoch 96/100\n",
            "100/100 [==============================] - 20s 202ms/step - loss: 4.4801e-04 - acc: 1.0000 - val_loss: 0.1719 - val_acc: 0.9370\n",
            "Epoch 97/100\n",
            "100/100 [==============================] - 20s 204ms/step - loss: 0.0019 - acc: 0.9995 - val_loss: 0.1710 - val_acc: 0.9320\n",
            "Epoch 98/100\n",
            "100/100 [==============================] - 20s 205ms/step - loss: 0.0018 - acc: 0.9995 - val_loss: 0.5811 - val_acc: 0.9420\n",
            "Epoch 99/100\n",
            "100/100 [==============================] - 20s 204ms/step - loss: 0.0033 - acc: 0.9985 - val_loss: 5.4747e-06 - val_acc: 0.9390\n",
            "Epoch 100/100\n",
            "100/100 [==============================] - 20s 203ms/step - loss: 0.0038 - acc: 0.9995 - val_loss: 0.6247 - val_acc: 0.9290\n"
          ],
          "name": "stdout"
        }
      ]
    },
    {
      "cell_type": "code",
      "metadata": {
        "id": "b2c7TXRn1ZqZ"
      },
      "source": [
        "model.save('cats_and_dogs_small_4.h5')"
      ],
      "execution_count": 19,
      "outputs": []
    },
    {
      "cell_type": "code",
      "metadata": {
        "id": "aR0b6nu61cqB",
        "colab": {
          "base_uri": "https://localhost:8080/",
          "height": 545
        },
        "outputId": "e8faf2df-8cf8-4d9d-a259-013c0b59bddf"
      },
      "source": [
        "acc = history.history['acc']\n",
        "val_acc = history.history['val_acc']\n",
        "loss = history.history['loss']\n",
        "val_loss = history.history['val_loss']\n",
        "\n",
        "epochs = range(len(acc))\n",
        "\n",
        "plt.plot(epochs, acc, 'bo', label='Training acc')\n",
        "plt.plot(epochs, val_acc, 'b', label='Validation acc')\n",
        "plt.title('Training and validation accuracy')\n",
        "plt.legend()\n",
        "\n",
        "plt.figure()\n",
        "\n",
        "plt.plot(epochs, loss, 'bo', label='Training loss')\n",
        "plt.plot(epochs, val_loss, 'b', label='Validation loss')\n",
        "plt.title('Training and validation loss')\n",
        "plt.legend()\n",
        "\n",
        "plt.show()"
      ],
      "execution_count": 20,
      "outputs": [
        {
          "output_type": "display_data",
          "data": {
            "image/png": "[encoded data removed]",
            "text/plain": [
              "<Figure size 432x288 with 1 Axes>"
            ]
          },
          "metadata": {
            "tags": [],
            "needs_background": "light"
          }
        },
        {
          "output_type": "display_data",
          "data": {
            "image/png": "[encoded data removed]",
            "text/plain": [
              "<Figure size 432x288 with 1 Axes>"
            ]
          },
          "metadata": {
            "tags": [],
            "needs_background": "light"
          }
        }
      ]
    },
    {
      "cell_type": "markdown",
      "metadata": {
        "id": "Eh5p7XdE1fH2"
      },
      "source": [
        "그래프가 불규칙하게 보입니다. 그래프를 보기 쉽게하기 위해 지수 이동 평균으로 정확도와 손실 값을 부드럽게 표현할 수 있습니다."
      ]
    },
    {
      "cell_type": "code",
      "metadata": {
        "id": "qYQQDbWb1hMQ",
        "colab": {
          "base_uri": "https://localhost:8080/",
          "height": 545
        },
        "outputId": "8be4c7d2-2ce8-4733-d481-103744423801"
      },
      "source": [
        "def smooth_curve(points, factor=0.8):\n",
        "  smoothed_points = []\n",
        "  for point in points:\n",
        "    if smoothed_points:\n",
        "      previous = smoothed_points[-1]\n",
        "      smoothed_points.append(previous * factor + point * (1 - factor))\n",
        "    else:\n",
        "      smoothed_points.append(point)\n",
        "  return smoothed_points\n",
        "\n",
        "plt.plot(epochs,\n",
        "         smooth_curve(acc), 'bo', label='Smoothed training acc')\n",
        "plt.plot(epochs,\n",
        "         smooth_curve(val_acc), 'b', label='Smoothed validation acc')\n",
        "plt.title('Training and validation accuracy')\n",
        "plt.legend()\n",
        "\n",
        "plt.figure()\n",
        "\n",
        "plt.plot(epochs,\n",
        "         smooth_curve(loss), 'bo', label='Smoothed training loss')\n",
        "plt.plot(epochs,\n",
        "         smooth_curve(val_loss), 'b', label='Smoothed validation loss')\n",
        "plt.title('Training and validation loss')\n",
        "plt.legend()\n",
        "\n",
        "plt.show()"
      ],
      "execution_count": 21,
      "outputs": [
        {
          "output_type": "display_data",
          "data": {
            "image/png": "[encoded data removed]",
            "text/plain": [
              "<Figure size 432x288 with 1 Axes>"
            ]
          },
          "metadata": {
            "tags": [],
            "needs_background": "light"
          }
        },
        {
          "output_type": "display_data",
          "data": {
            "image/png": "[encoded data removed]",
            "text/plain": [
              "<Figure size 432x288 with 1 Axes>"
            ]
          },
          "metadata": {
            "tags": [],
            "needs_background": "light"
          }
        }
      ]
    },
    {
      "cell_type": "code",
      "metadata": {
        "id": "0f0cujId1sAp",
        "colab": {
          "base_uri": "https://localhost:8080/"
        },
        "outputId": "f2b99f7c-e95d-4991-9ab5-694eb270a9bc"
      },
      "source": [
        "test_generator = test_datagen.flow_from_directory(\n",
        "        test_dir,\n",
        "        target_size=(150, 150),\n",
        "        batch_size=20,\n",
        "        class_mode='binary')\n",
        "\n",
        "test_loss, test_acc = model.evaluate_generator(test_generator, steps=50)\n",
        "print('test acc:', test_acc)"
      ],
      "execution_count": 22,
      "outputs": [
        {
          "output_type": "stream",
          "text": [
            "Found 1000 images belonging to 2 classes.\n",
            "test acc: 0.9309999942779541\n"
          ],
          "name": "stdout"
        }
      ]
    },
    {
      "cell_type": "markdown",
      "metadata": {
        "id": "KxIIdhBg1-tQ"
      },
      "source": [
        "- 컨브넷은 컴퓨터 비전 작업에 가장 뛰어난 머신 러닝 모델입니다. 아주 작은 데이터셋에서도 처음부터 훈련해서 괜찮은 성능을 낼 수 있습니다.\n",
        "- 작은 데이터셋에서는 과대적합이 큰 문제입니다. 데이터 증식은 이미지 데이터를 다룰 때 과대적합을 막을 수 있는 강력한 방법입니다.\n",
        "- 특성 추출 방식으로 새로운 데이터셋에 기존의 컨브넷을 쉽게 재사용할 수 있습니다. 작은 이미지 데이터셋으로 작업할 때 효과적인 기법입니다.\n",
        "- 특성 추출을 보완하기 위해 미세 조정을 사용할 수 있습니다. 미세 조정은 기존 모델에서 사전에 학습한 표현의 일부를 새로운 문제에 적응시킵니다. 이 기법은 조금 더 성능을 끌어올립니다."
      ]
    }
  ]
}