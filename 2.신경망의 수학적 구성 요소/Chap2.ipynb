{
  "nbformat": 4,
  "nbformat_minor": 0,
  "metadata": {
    "colab": {
      "name": "Chap2.ipynb",
      "provenance": [],
      "private_outputs": true,
      "authorship_tag": "ABX9TyN5JFh0NRtx6l3+kH9YHii2",
      "include_colab_link": true
    },
    "kernelspec": {
      "name": "python3",
      "display_name": "Python 3"
    },
    "accelerator": "GPU"
  },
  "cells": [
    {
      "cell_type": "markdown",
      "metadata": {
        "id": "view-in-github",
        "colab_type": "text"
      },
      "source": [
        "<a href=\"https://colab.research.google.com/github/minnji88/DeepLearning2020/blob/master/2.%EC%8B%A0%EA%B2%BD%EB%A7%9D%EC%9D%98%20%EC%88%98%ED%95%99%EC%A0%81%20%EA%B5%AC%EC%84%B1%20%EC%9A%94%EC%86%8C/Chap2.ipynb\" target=\"_parent\"><img src=\"https://colab.research.google.com/assets/colab-badge.svg\" alt=\"Open In Colab\"/></a>"
      ]
    },
    {
      "cell_type": "markdown",
      "metadata": {
        "id": "6PQXETpRbF97"
      },
      "source": [
        "# 손글씨 숫자 분류를 학습하는 신경망 예제\n",
        "\n",
        "#### 흑백 손글씨 숫자 이미지 (28x28픽셀)를 10개의 범주(0~9)로 분류하는 문제\n",
        "-- 훈련 이미지 : 6만개    \n",
        "-- 테스트 이미지 : 1만개"
      ]
    },
    {
      "cell_type": "markdown",
      "metadata": {
        "id": "ZPJh6ejZcKNd"
      },
      "source": [
        "## 케라스에서 MNIST 데이터셋 적재하기\n",
        "\n",
        "- train_images, train_labels = training set (훈련 세트)\n",
        "\n",
        "- test_images, test_labels = test set(테스트 세트)"
      ]
    },
    {
      "cell_type": "code",
      "metadata": {
        "id": "NyaSNx6sViQU"
      },
      "source": [
        "from keras.datasets import mnist\n",
        "(train_images, train_labels), (test_images, test_labels) = mnist.load_data();"
      ],
      "execution_count": null,
      "outputs": []
    },
    {
      "cell_type": "markdown",
      "metadata": {
        "id": "dT_xjVK3cg6B"
      },
      "source": [
        "### 훈련 데이터 정보"
      ]
    },
    {
      "cell_type": "code",
      "metadata": {
        "id": "sY7LH__nV2CA"
      },
      "source": [
        "train_images.shape"
      ],
      "execution_count": null,
      "outputs": []
    },
    {
      "cell_type": "code",
      "metadata": {
        "id": "VLBR3a8EaGl2"
      },
      "source": [
        "len(train_labels)"
      ],
      "execution_count": null,
      "outputs": []
    },
    {
      "cell_type": "code",
      "metadata": {
        "id": "bVmUcoX6aVwf"
      },
      "source": [
        "train_labels"
      ],
      "execution_count": null,
      "outputs": []
    },
    {
      "cell_type": "markdown",
      "metadata": {
        "id": "pcdezG4jcl-I"
      },
      "source": [
        "### 테스트 데이터 정보"
      ]
    },
    {
      "cell_type": "code",
      "metadata": {
        "id": "vXnlkitHaV6H"
      },
      "source": [
        "test_images.shape"
      ],
      "execution_count": null,
      "outputs": []
    },
    {
      "cell_type": "code",
      "metadata": {
        "id": "TWG4boqKaV9B"
      },
      "source": [
        "len(test_labels)"
      ],
      "execution_count": null,
      "outputs": []
    },
    {
      "cell_type": "code",
      "metadata": {
        "id": "mAbZvZFmaj6G"
      },
      "source": [
        "test_labels"
      ],
      "execution_count": null,
      "outputs": []
    },
    {
      "cell_type": "markdown",
      "metadata": {
        "id": "NgtPo9Ttct41"
      },
      "source": [
        "## 신경망 구조"
      ]
    },
    {
      "cell_type": "code",
      "metadata": {
        "id": "cBIw1_MwaoDJ"
      },
      "source": [
        "from keras import models\n",
        "from keras import layers\n",
        "\n",
        "network = models.Sequential();\n",
        "network.add(layers.Dense(512, activation= 'relu', input_shape = (28*28,)))\n",
        "network.add(layers.Dense(10, activation= 'softmax'))"
      ],
      "execution_count": null,
      "outputs": []
    },
    {
      "cell_type": "markdown",
      "metadata": {
        "id": "xmliGvocfZ0T"
      },
      "source": [
        "## 컴파일 단계"
      ]
    },
    {
      "cell_type": "code",
      "metadata": {
        "id": "gTnekhOreGTm"
      },
      "source": [
        "network.compile(optimizer='rmsprop', \n",
        "                loss='categorical_crossentropy', \n",
        "                metrics=['accuracy'])"
      ],
      "execution_count": null,
      "outputs": []
    },
    {
      "cell_type": "code",
      "metadata": {
        "id": "1V0_mISWfdnA"
      },
      "source": [
        "train_images = train_images.reshape((60000, 28*28))\n",
        "train_images = train_images.astype('float32') / 255 # 0~1 사이를 가지는 값으로 타입변환\n",
        "\n",
        "test_images = test_images.reshape((10000, 28*28))\n",
        "test_images = test_images.astype('float32') / 255"
      ],
      "execution_count": null,
      "outputs": []
    },
    {
      "cell_type": "markdown",
      "metadata": {
        "id": "_aBOx5kCgqtQ"
      },
      "source": [
        "## label을 범주형으로 인코딩"
      ]
    },
    {
      "cell_type": "code",
      "metadata": {
        "id": "y4zMEUivgkld"
      },
      "source": [
        "from keras.utils import to_categorical\n",
        "train_labels = to_categorical(train_labels)\n",
        "test_labels = to_categorical(test_labels)"
      ],
      "execution_count": null,
      "outputs": []
    },
    {
      "cell_type": "markdown",
      "metadata": {
        "id": "3MEGy0yChZ-6"
      },
      "source": [
        "## 신경망 훈련\n",
        "\n",
        "- 훈련 데이터에 대해 0.989(98.9%)의 정확도를 달성"
      ]
    },
    {
      "cell_type": "code",
      "metadata": {
        "id": "CzQoWSgxhdS-"
      },
      "source": [
        "network.fit(train_images, train_labels, epochs=5, batch_size=128)"
      ],
      "execution_count": null,
      "outputs": []
    },
    {
      "cell_type": "code",
      "metadata": {
        "id": "qgbnkOtvhFEN"
      },
      "source": [
        "test_loss, test_acc = network.evaluate(test_images, test_labels)"
      ],
      "execution_count": null,
      "outputs": []
    },
    {
      "cell_type": "code",
      "metadata": {
        "id": "tXKcHNgZiPVK"
      },
      "source": [
        "print('test_acc:', test_acc)"
      ],
      "execution_count": null,
      "outputs": []
    },
    {
      "cell_type": "code",
      "metadata": {
        "id": "ysNyniChiUA_"
      },
      "source": [
        ""
      ],
      "execution_count": null,
      "outputs": []
    }
  ]
}